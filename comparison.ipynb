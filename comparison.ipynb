{
 "cells": [
  {
   "cell_type": "markdown",
   "id": "075174ea",
   "metadata": {},
   "source": [
    "# Unsupervised Machine Learning for the Classification of Astrophysical X-ray Sources\n",
    "###### *Víctor Samuel Pérez Díaz<sup>1,2</sup>, Rafael Martinez-Galarza<sup>1</sup>, Alexander Caicedo-Dorado<sup>3</sup>, Raffaele D'Abrusco<sup>1</sup>*\n",
    "\n",
    "*1. Center for Astrophysics | Harvard & Smithsonian, 2. Universidad del Rosario, 3. Pontificia Universidad Javeriana*\n",
    "\n",
    "Contact ```vperezdiaz@cfa.harvard.edu``` for questions or comments.\n",
    "\n",
    "\n",
    "#### Comparison\n",
    "\n",
    "---"
   ]
  },
  {
   "cell_type": "code",
   "execution_count": 1,
   "id": "bc7d0443",
   "metadata": {},
   "outputs": [],
   "source": [
    "import pandas as pd\n",
    "from sklearn.metrics import confusion_matrix, classification_report, precision_score\n",
    "import matplotlib as mpl\n",
    "import matplotlib.pyplot as plt\n",
    "import seaborn as sns"
   ]
  },
  {
   "cell_type": "code",
   "execution_count": 2,
   "id": "82b82b6f",
   "metadata": {},
   "outputs": [],
   "source": [
    "# Edit the font, font size, and axes width\n",
    "\n",
    "mpl.rcParams['font.family'] = 'Avenir LT Std'\n",
    "plt.rcParams['font.size'] = 14\n",
    "plt.rcParams['axes.linewidth'] = 2"
   ]
  },
  {
   "cell_type": "markdown",
   "id": "1b047443",
   "metadata": {},
   "source": [
    "#### Data preprocessing\n",
    "---"
   ]
  },
  {
   "cell_type": "code",
   "execution_count": 3,
   "id": "868f5bbd",
   "metadata": {},
   "outputs": [],
   "source": [
    "df_classified_cscs = pd.read_csv('./out_data/classified_cscs.csv', index_col=0)\n",
    "df_class_confident = pd.read_csv('./out_data/confident_classification.csv')\n",
    "df_class_confused = pd.read_csv('./out_data/confused_classification.csv', index_col=0)\n",
    "\n",
    "grouped_replace = {'AGN':'AGN+Seyfert','QSO': 'AGN+Seyfert', 'Seyfert_1': 'AGN+Seyfert', 'Seyfert_2': 'AGN+Seyfert', 'HMXB': 'XB', 'LMXB':'XB', 'TTau*':'YSO', 'Orion_V*': 'YSO'}\n",
    "new_ltypes = ['AGN+Seyfert', 'XB', 'YSO']\n",
    "ltypes = ['QSO', 'AGN', 'Seyfert_1', 'Seyfert_2', 'HMXB', 'LMXB', 'XB', 'YSO', 'TTau*', 'Orion_V*']"
   ]
  },
  {
   "cell_type": "markdown",
   "id": "ece54e2d",
   "metadata": {},
   "source": [
    "#### Yang et al. 2022 TD\n",
    "\n",
    "---"
   ]
  },
  {
   "cell_type": "code",
   "execution_count": 4,
   "id": "416c17f5",
   "metadata": {},
   "outputs": [],
   "source": [
    "df_yangetal_td = pd.read_csv(\"./comparison_data/TD.csv\")\n",
    "inter_df_conf_yangetal = df_class_confident.merge(df_yangetal_td, left_on='name', right_on='CSCv2_name', how='inner')"
   ]
  },
  {
   "cell_type": "code",
   "execution_count": 5,
   "id": "9a72e804",
   "metadata": {},
   "outputs": [
    {
     "data": {
      "text/plain": [
       "(116, 77)"
      ]
     },
     "execution_count": 5,
     "metadata": {},
     "output_type": "execute_result"
    }
   ],
   "source": [
    "inter_df_conf_yangetal.shape"
   ]
  },
  {
   "cell_type": "code",
   "execution_count": 258,
   "id": "ae2013fb",
   "metadata": {},
   "outputs": [
    {
     "data": {
      "text/plain": [
       "Class\n",
       "AGN        0.277778\n",
       "CV         0.166667\n",
       "HM-STAR    0.111111\n",
       "LM-STAR    0.055556\n",
       "LMXB       0.166667\n",
       "NS         0.166667\n",
       "YSO        0.055556\n",
       "Name: name, dtype: float64"
      ]
     },
     "execution_count": 258,
     "metadata": {},
     "output_type": "execute_result"
    }
   ],
   "source": [
    "class_name_to_count = 'AGN'\n",
    "inter_df_conf_yangetal[inter_df_conf_yangetal.agg_master_class == class_name_to_count].groupby('Class')['name'].count()/inter_df_conf_yangetal[inter_df_conf_yangetal.agg_master_class == class_name_to_count].shape[0]"
   ]
  },
  {
   "cell_type": "code",
   "execution_count": 215,
   "id": "212ba0b9",
   "metadata": {},
   "outputs": [
    {
     "data": {
      "text/plain": [
       "29"
      ]
     },
     "execution_count": 215,
     "metadata": {},
     "output_type": "execute_result"
    }
   ],
   "source": [
    "class_name_to_count = 'XB'\n",
    "inter_df_conf_yangetal[inter_df_conf_yangetal.master_class.replace(grouped_replace) == class_name_to_count].shape[0]"
   ]
  },
  {
   "cell_type": "code",
   "execution_count": 97,
   "id": "d46df621",
   "metadata": {},
   "outputs": [
    {
     "data": {
      "text/plain": [
       "Text(83.0, 0.5, 'True')"
      ]
     },
     "execution_count": 97,
     "metadata": {},
     "output_type": "execute_result"
    },
    {
     "data": {
      "image/png": "[encoded data removed]",
      "text/plain": [
       "<Figure size 864x720 with 2 Axes>"
      ]
     },
     "metadata": {
      "needs_background": "light"
     },
     "output_type": "display_data"
    }
   ],
   "source": [
    "cf_matrix = confusion_matrix(inter_df_conf_yangetal.Class.replace(grouped_replace), inter_df_conf_yangetal.master_class.replace(grouped_replace), labels=new_ltypes, normalize='true')\n",
    "fig, ax = plt.subplots(figsize=(12,10))\n",
    "sns.heatmap(cf_matrix, annot=True, xticklabels = new_ltypes, yticklabels = new_ltypes, ax=ax, cmap=\"inferno\")\n",
    "ax.set_xlabel('Predicted')\n",
    "ax.set_ylabel('True')"
   ]
  },
  {
   "cell_type": "code",
   "execution_count": 75,
   "id": "4a0a07cd",
   "metadata": {
    "scrolled": true
   },
   "outputs": [
    {
     "name": "stdout",
     "output_type": "stream",
     "text": [
      "              precision    recall  f1-score   support\n",
      "\n",
      " AGN+Seyfert       0.32      0.83      0.47        12\n",
      "          XB       0.17      0.31      0.22        16\n",
      "         YSO       0.18      0.83      0.29        12\n",
      "\n",
      "   micro avg       0.22      0.62      0.32        40\n",
      "   macro avg       0.22      0.66      0.33        40\n",
      "weighted avg       0.22      0.62      0.32        40\n",
      "\n"
     ]
    }
   ],
   "source": [
    "print(classification_report(inter_df_conf_yangetal.Class.replace(grouped_replace), inter_df_conf_yangetal.master_class.replace(grouped_replace), labels=new_ltypes))"
   ]
  },
  {
   "cell_type": "code",
   "execution_count": 242,
   "id": "ac79aac8",
   "metadata": {},
   "outputs": [
    {
     "data": {
      "text/plain": [
       "array([0.55555556, 0.625     , 0.71428571])"
      ]
     },
     "execution_count": 242,
     "metadata": {},
     "output_type": "execute_result"
    }
   ],
   "source": [
    "precision_score(inter_df_conf_yangetal.Class.replace(grouped_replace)[inter_df_conf_yangetal.Class.replace(grouped_replace).isin(new_ltypes)], inter_df_conf_yangetal.master_class.replace(grouped_replace)[inter_df_conf_yangetal.Class.replace(grouped_replace).isin(new_ltypes)], labels=new_ltypes, average=None)"
   ]
  },
  {
   "cell_type": "code",
   "execution_count": null,
   "id": "e91d733e",
   "metadata": {},
   "outputs": [],
   "source": [
    "class_name_to_count = 'Seyfert'\n",
    "inter_df_conf_yangetal[inter_df_conf_yangetal.agg_master_class == class_name_to_count].groupby('Class')['name'].count()/inter_df_conf_yangetal[inter_df_conf_yangetal.agg_master_class == class_name_to_count].shape[0]"
   ]
  },
  {
   "cell_type": "code",
   "execution_count": 191,
   "id": "9ad32ddf",
   "metadata": {},
   "outputs": [
    {
     "data": {
      "text/plain": [
       "(116, 77)"
      ]
     },
     "execution_count": 191,
     "metadata": {},
     "output_type": "execute_result"
    }
   ],
   "source": [
    "inter_df_conf_yangetal.shape"
   ]
  },
  {
   "cell_type": "markdown",
   "id": "a49e6998",
   "metadata": {},
   "source": [
    "#### Yang et al. 2022 CCGCS\n",
    "---"
   ]
  },
  {
   "cell_type": "code",
   "execution_count": 6,
   "id": "112c91ce",
   "metadata": {},
   "outputs": [
    {
     "name": "stderr",
     "output_type": "stream",
     "text": [
      "C:\\Users\\samue\\miniconda3\\envs\\astrox\\lib\\site-packages\\IPython\\core\\interactiveshell.py:3165: DtypeWarning: Columns (59) have mixed types.Specify dtype option on import or set low_memory=False.\n",
      "  has_raised = await self.run_ast_nodes(code_ast.body, cell_name,\n"
     ]
    }
   ],
   "source": [
    "df_yangetal_gcs = pd.read_csv(\"./comparison_data/GCS.csv\")\n",
    "df_yangetal_ccgcs = df_yangetal_gcs[df_yangetal_gcs.CT >=2 ]\n",
    "inter_df_conf_yangccgcs = df_class_confident.merge(df_yangetal_ccgcs, left_on='name', right_on='CSCv2_name', how='inner')"
   ]
  },
  {
   "cell_type": "code",
   "execution_count": 7,
   "id": "5988c32e",
   "metadata": {},
   "outputs": [
    {
     "data": {
      "text/plain": [
       "(1804, 74)"
      ]
     },
     "execution_count": 7,
     "metadata": {},
     "output_type": "execute_result"
    }
   ],
   "source": [
    "inter_df_conf_yangccgcs.shape"
   ]
  },
  {
   "cell_type": "code",
   "execution_count": 8,
   "id": "ee448d94",
   "metadata": {},
   "outputs": [
    {
     "data": {
      "text/plain": [
       "Class\n",
       "AGN        0.749601\n",
       "CV         0.012759\n",
       "HMXB       0.001595\n",
       "LM-STAR    0.028708\n",
       "LMXB       0.049442\n",
       "NS         0.106858\n",
       "YSO        0.051037\n",
       "Name: name, dtype: float64"
      ]
     },
     "execution_count": 8,
     "metadata": {},
     "output_type": "execute_result"
    }
   ],
   "source": [
    "class_name_to_count = 'XB'\n",
    "inter_df_conf_yangccgcs[inter_df_conf_yangccgcs.agg_master_class == class_name_to_count].groupby('Class')['name'].count()/inter_df_conf_yangccgcs[inter_df_conf_yangccgcs.agg_master_class == class_name_to_count].shape[0]"
   ]
  },
  {
   "cell_type": "code",
   "execution_count": 9,
   "id": "0a505ff6",
   "metadata": {},
   "outputs": [
    {
     "name": "stdout",
     "output_type": "stream",
     "text": [
      "              precision    recall  f1-score   support\n",
      "\n",
      " AGN+Seyfert       0.94      0.62      0.74      1406\n",
      "          XB       0.05      0.51      0.09        63\n",
      "         YSO       0.36      0.72      0.48       129\n",
      "\n",
      "   micro avg       0.55      0.62      0.58      1598\n",
      "   macro avg       0.45      0.61      0.44      1598\n",
      "weighted avg       0.86      0.62      0.70      1598\n",
      "\n"
     ]
    }
   ],
   "source": [
    "print(classification_report(inter_df_conf_yangccgcs.Class.replace(grouped_replace), inter_df_conf_yangccgcs.master_class.replace(grouped_replace), labels=new_ltypes))"
   ]
  },
  {
   "cell_type": "code",
   "execution_count": 125,
   "id": "65ace0f5",
   "metadata": {},
   "outputs": [
    {
     "data": {
      "text/plain": [
       "Text(83.0, 0.5, 'True')"
      ]
     },
     "execution_count": 125,
     "metadata": {},
     "output_type": "execute_result"
    },
    {
     "data": {
      "image/png": "[encoded data removed]",
      "text/plain": [
       "<Figure size 864x720 with 2 Axes>"
      ]
     },
     "metadata": {
      "needs_background": "light"
     },
     "output_type": "display_data"
    }
   ],
   "source": [
    "cf_matrix = confusion_matrix(inter_df_conf_yangccgcs.Class.replace(grouped_replace), inter_df_conf_yangccgcs.master_class.replace(grouped_replace), labels=new_ltypes, normalize='true')\n",
    "fig, ax = plt.subplots(figsize=(12,10))\n",
    "sns.heatmap(cf_matrix, annot=True, xticklabels = new_ltypes, yticklabels = new_ltypes, ax=ax, cmap=\"inferno\")\n",
    "ax.set_xlabel('Predicted')\n",
    "ax.set_ylabel('True')"
   ]
  },
  {
   "cell_type": "code",
   "execution_count": 259,
   "id": "d23ccf75",
   "metadata": {},
   "outputs": [
    {
     "data": {
      "text/plain": [
       "922"
      ]
     },
     "execution_count": 259,
     "metadata": {},
     "output_type": "execute_result"
    }
   ],
   "source": [
    "class_name_to_count = 'AGN+Seyfert'\n",
    "inter_df_conf_yangccgcs[inter_df_conf_yangccgcs.master_class.replace(grouped_replace) == class_name_to_count].shape[0]"
   ]
  },
  {
   "cell_type": "code",
   "execution_count": 243,
   "id": "b9eb61d2",
   "metadata": {},
   "outputs": [
    {
     "data": {
      "text/plain": [
       "array([0.97961495, 0.05992509, 0.51381215])"
      ]
     },
     "execution_count": 243,
     "metadata": {},
     "output_type": "execute_result"
    }
   ],
   "source": [
    "precision_score(inter_df_conf_yangccgcs.Class.replace(grouped_replace)[inter_df_conf_yangccgcs.Class.replace(grouped_replace).isin(new_ltypes)], inter_df_conf_yangccgcs.master_class.replace(grouped_replace)[inter_df_conf_yangccgcs.Class.replace(grouped_replace).isin(new_ltypes)], labels=new_ltypes, average=None)"
   ]
  },
  {
   "cell_type": "markdown",
   "id": "9fafe2af",
   "metadata": {},
   "source": [
    "#### Tranin et al. 2022\n",
    "\n",
    "---"
   ]
  },
  {
   "cell_type": "code",
   "execution_count": 126,
   "id": "a8c58b8e",
   "metadata": {},
   "outputs": [],
   "source": [
    "df_tranin = pd.read_csv(\"./comparison_data/tranin_cmatch.csv\")"
   ]
  },
  {
   "cell_type": "code",
   "execution_count": 261,
   "id": "719e836e",
   "metadata": {},
   "outputs": [
    {
     "data": {
      "text/plain": [
       "(2006, 104)"
      ]
     },
     "execution_count": 261,
     "metadata": {},
     "output_type": "execute_result"
    }
   ],
   "source": [
    "df_tranin.shape"
   ]
  },
  {
   "cell_type": "code",
   "execution_count": 178,
   "id": "f9c83527",
   "metadata": {},
   "outputs": [
    {
     "data": {
      "text/html": [
       "<div>\n",
       "<style scoped>\n",
       "    .dataframe tbody tr th:only-of-type {\n",
       "        vertical-align: middle;\n",
       "    }\n",
       "\n",
       "    .dataframe tbody tr th {\n",
       "        vertical-align: top;\n",
       "    }\n",
       "\n",
       "    .dataframe thead th {\n",
       "        text-align: right;\n",
       "    }\n",
       "</style>\n",
       "<table border=\"1\" class=\"dataframe\">\n",
       "  <thead>\n",
       "    <tr style=\"text-align: right;\">\n",
       "      <th></th>\n",
       "      <th>name_1</th>\n",
       "      <th>agg_master_class</th>\n",
       "      <th>master_class</th>\n",
       "      <th>detection_count</th>\n",
       "      <th>Orion_V*</th>\n",
       "      <th>QSO</th>\n",
       "      <th>AGN</th>\n",
       "      <th>Seyfert_1</th>\n",
       "      <th>Seyfert_2</th>\n",
       "      <th>HMXB</th>\n",
       "      <th>...</th>\n",
       "      <th>quality</th>\n",
       "      <th>Pba_AGN</th>\n",
       "      <th>Pba_Star</th>\n",
       "      <th>Pba_XRB</th>\n",
       "      <th>Pba_CV</th>\n",
       "      <th>class</th>\n",
       "      <th>classification</th>\n",
       "      <th>alternative</th>\n",
       "      <th>outlier</th>\n",
       "      <th>Separation</th>\n",
       "    </tr>\n",
       "  </thead>\n",
       "  <tbody>\n",
       "    <tr>\n",
       "      <th>1553</th>\n",
       "      <td>2CXO J013301.0+304043</td>\n",
       "      <td>XB</td>\n",
       "      <td>HMXB</td>\n",
       "      <td>1</td>\n",
       "      <td>0.0Â±0.001</td>\n",
       "      <td>0.0Â±0.0</td>\n",
       "      <td>0.0Â±0.0</td>\n",
       "      <td>0.0Â±0.0</td>\n",
       "      <td>0.0Â±0.0</td>\n",
       "      <td>0.0Â±0.75</td>\n",
       "      <td>...</td>\n",
       "      <td>2</td>\n",
       "      <td>0.000263</td>\n",
       "      <td>1.541000e-07</td>\n",
       "      <td>0.9988</td>\n",
       "      <td>0.000907</td>\n",
       "      <td>NaN</td>\n",
       "      <td>XRB</td>\n",
       "      <td>NaN</td>\n",
       "      <td>8.358</td>\n",
       "      <td>0.300492</td>\n",
       "    </tr>\n",
       "  </tbody>\n",
       "</table>\n",
       "<p>1 rows × 104 columns</p>\n",
       "</div>"
      ],
      "text/plain": [
       "                     name_1 agg_master_class master_class  detection_count  \\\n",
       "1553  2CXO J013301.0+304043               XB         HMXB                1   \n",
       "\n",
       "        Orion_V*       QSO       AGN Seyfert_1 Seyfert_2       HMXB  ...  \\\n",
       "1553  0.0Â±0.001  0.0Â±0.0  0.0Â±0.0  0.0Â±0.0  0.0Â±0.0  0.0Â±0.75  ...   \n",
       "\n",
       "     quality   Pba_AGN      Pba_Star Pba_XRB    Pba_CV class  classification  \\\n",
       "1553       2  0.000263  1.541000e-07  0.9988  0.000907   NaN             XRB   \n",
       "\n",
       "      alternative  outlier  Separation  \n",
       "1553          NaN    8.358    0.300492  \n",
       "\n",
       "[1 rows x 104 columns]"
      ]
     },
     "execution_count": 178,
     "metadata": {},
     "output_type": "execute_result"
    }
   ],
   "source": [
    "df_tranin[df_tranin.name_1 == '2CXO J013301.0+304043']"
   ]
  },
  {
   "cell_type": "code",
   "execution_count": 189,
   "id": "44760298",
   "metadata": {
    "scrolled": true
   },
   "outputs": [
    {
     "data": {
      "text/html": [
       "<div>\n",
       "<style scoped>\n",
       "    .dataframe tbody tr th:only-of-type {\n",
       "        vertical-align: middle;\n",
       "    }\n",
       "\n",
       "    .dataframe tbody tr th {\n",
       "        vertical-align: top;\n",
       "    }\n",
       "\n",
       "    .dataframe thead th {\n",
       "        text-align: right;\n",
       "    }\n",
       "</style>\n",
       "<table border=\"1\" class=\"dataframe\">\n",
       "  <thead>\n",
       "    <tr style=\"text-align: right;\">\n",
       "      <th></th>\n",
       "      <th>name_1</th>\n",
       "      <th>agg_master_class</th>\n",
       "      <th>master_class</th>\n",
       "      <th>detection_count</th>\n",
       "      <th>Orion_V*</th>\n",
       "      <th>QSO</th>\n",
       "      <th>AGN</th>\n",
       "      <th>Seyfert_1</th>\n",
       "      <th>Seyfert_2</th>\n",
       "      <th>HMXB</th>\n",
       "      <th>...</th>\n",
       "      <th>quality</th>\n",
       "      <th>Pba_AGN</th>\n",
       "      <th>Pba_Star</th>\n",
       "      <th>Pba_XRB</th>\n",
       "      <th>Pba_CV</th>\n",
       "      <th>class</th>\n",
       "      <th>classification</th>\n",
       "      <th>alternative</th>\n",
       "      <th>outlier</th>\n",
       "      <th>Separation</th>\n",
       "    </tr>\n",
       "  </thead>\n",
       "  <tbody>\n",
       "    <tr>\n",
       "      <th>22</th>\n",
       "      <td>2CXO J013324.4+304402</td>\n",
       "      <td>XB</td>\n",
       "      <td>HMXB</td>\n",
       "      <td>11</td>\n",
       "      <td>0.277Â±0.172</td>\n",
       "      <td>0.007Â±0.005</td>\n",
       "      <td>0.024Â±0.02</td>\n",
       "      <td>0.004Â±0.002</td>\n",
       "      <td>0.343Â±0.208</td>\n",
       "      <td>0.376Â±0.429</td>\n",
       "      <td>...</td>\n",
       "      <td>2</td>\n",
       "      <td>0.005784</td>\n",
       "      <td>0.000003</td>\n",
       "      <td>0.9886</td>\n",
       "      <td>0.005659</td>\n",
       "      <td>NaN</td>\n",
       "      <td>XRB</td>\n",
       "      <td>AGN</td>\n",
       "      <td>7.337</td>\n",
       "      <td>0.385386</td>\n",
       "    </tr>\n",
       "  </tbody>\n",
       "</table>\n",
       "<p>1 rows × 104 columns</p>\n",
       "</div>"
      ],
      "text/plain": [
       "                   name_1 agg_master_class master_class  detection_count  \\\n",
       "22  2CXO J013324.4+304402               XB         HMXB               11   \n",
       "\n",
       "        Orion_V*           QSO          AGN     Seyfert_1     Seyfert_2  \\\n",
       "22  0.277Â±0.172  0.007Â±0.005  0.024Â±0.02  0.004Â±0.002  0.343Â±0.208   \n",
       "\n",
       "            HMXB  ... quality   Pba_AGN  Pba_Star Pba_XRB    Pba_CV class  \\\n",
       "22  0.376Â±0.429  ...       2  0.005784  0.000003  0.9886  0.005659   NaN   \n",
       "\n",
       "    classification  alternative  outlier  Separation  \n",
       "22             XRB          AGN    7.337    0.385386  \n",
       "\n",
       "[1 rows x 104 columns]"
      ]
     },
     "execution_count": 189,
     "metadata": {},
     "output_type": "execute_result"
    }
   ],
   "source": [
    "df_tranin[df_tranin.name_1 == '2CXO J013324.4+304402']"
   ]
  },
  {
   "cell_type": "code",
   "execution_count": 131,
   "id": "1378b989",
   "metadata": {},
   "outputs": [],
   "source": [
    "grouped_replace_tranin = {'AGN':'AGN+Seyfert','QSO': 'AGN+Seyfert', 'Seyfert_1': 'AGN+Seyfert', 'Seyfert_2': 'AGN+Seyfert', 'XRB': 'XB', 'HMXB': 'XB', 'LMXB':'XB', 'TTau*':'YSO', 'Orion_V*': 'YSO'}"
   ]
  },
  {
   "cell_type": "code",
   "execution_count": 144,
   "id": "75a75a7c",
   "metadata": {},
   "outputs": [
    {
     "name": "stdout",
     "output_type": "stream",
     "text": [
      "              precision    recall  f1-score   support\n",
      "\n",
      " AGN+Seyfert       0.76      0.62      0.69      1116\n",
      "          XB       0.42      0.42      0.42       652\n",
      "\n",
      "   micro avg       0.62      0.55      0.58      1768\n",
      "   macro avg       0.59      0.52      0.55      1768\n",
      "weighted avg       0.64      0.55      0.59      1768\n",
      "\n"
     ]
    }
   ],
   "source": [
    "print(classification_report(df_tranin.classification.replace(grouped_replace_tranin), df_tranin.master_class.replace(grouped_replace_tranin), labels=['AGN+Seyfert', 'XB']))"
   ]
  },
  {
   "cell_type": "code",
   "execution_count": 140,
   "id": "5f2e283c",
   "metadata": {},
   "outputs": [
    {
     "data": {
      "text/plain": [
       "classification\n",
       "AGN     0.197701\n",
       "CV      0.009195\n",
       "Star    0.386207\n",
       "XRB     0.406897\n",
       "Name: name_1, dtype: float64"
      ]
     },
     "execution_count": 140,
     "metadata": {},
     "output_type": "execute_result"
    }
   ],
   "source": [
    "class_name_to_count = 'YSO'\n",
    "df_tranin[df_tranin.agg_master_class == class_name_to_count].groupby('classification')['name_1'].count()/df_tranin[df_tranin.agg_master_class == class_name_to_count].shape[0]"
   ]
  },
  {
   "cell_type": "code",
   "execution_count": 266,
   "id": "26732bb1",
   "metadata": {},
   "outputs": [
    {
     "data": {
      "text/plain": [
       "435"
      ]
     },
     "execution_count": 266,
     "metadata": {},
     "output_type": "execute_result"
    }
   ],
   "source": [
    "class_name_to_count = 'YSO'\n",
    "df_tranin[df_tranin.agg_master_class == class_name_to_count].groupby('classification')['name_1'].count()/df_tranin[df_tranin.agg_master_class == class_name_to_count].shape[0]"
   ]
  },
  {
   "cell_type": "code",
   "execution_count": 268,
   "id": "a92aff92",
   "metadata": {},
   "outputs": [
    {
     "data": {
      "text/plain": [
       "659"
      ]
     },
     "execution_count": 268,
     "metadata": {},
     "output_type": "execute_result"
    }
   ],
   "source": [
    "class_name_to_count = 'XB'\n",
    "df_tranin[df_tranin.master_class.replace(grouped_replace_tranin) == class_name_to_count].shape[0]"
   ]
  },
  {
   "cell_type": "code",
   "execution_count": 248,
   "id": "50b1c143",
   "metadata": {},
   "outputs": [
    {
     "data": {
      "text/plain": [
       "array([0.77678571, 0.45155993])"
      ]
     },
     "execution_count": 248,
     "metadata": {},
     "output_type": "execute_result"
    }
   ],
   "source": [
    "precision_score(df_tranin.classification.replace(grouped_replace_tranin)[df_tranin.classification.replace(grouped_replace_tranin).isin(['AGN+Seyfert', 'XB'])], df_tranin.master_class.replace(grouped_replace_tranin)[df_tranin.classification.replace(grouped_replace_tranin).isin(['AGN+Seyfert', 'XB'])], labels=['AGN+Seyfert', 'XB'], average=None)"
   ]
  },
  {
   "cell_type": "markdown",
   "id": "29236ac9",
   "metadata": {},
   "source": [
    "#### Toba et al. 2022\n",
    "\n",
    "---"
   ]
  },
  {
   "cell_type": "code",
   "execution_count": 148,
   "id": "7521584d",
   "metadata": {},
   "outputs": [],
   "source": [
    "df_toba = pd.read_csv(\"./comparison_data/toba_cmatch.csv\")"
   ]
  },
  {
   "cell_type": "code",
   "execution_count": 288,
   "id": "c49469ff",
   "metadata": {},
   "outputs": [
    {
     "data": {
      "text/plain": [
       "0      0.0ÃÂ±0.0\n",
       "1    0.0ÃÂ±0.001\n",
       "2      0.0ÃÂ±0.0\n",
       "3      0.0ÃÂ±0.0\n",
       "4      0.0ÃÂ±1.0\n",
       "5    0.0ÃÂ±0.001\n",
       "6      0.0ÃÂ±0.0\n",
       "7    0.0ÃÂ±0.003\n",
       "Name: HMXB, dtype: object"
      ]
     },
     "execution_count": 288,
     "metadata": {},
     "output_type": "execute_result"
    }
   ],
   "source": [
    "df_toba.HMXB"
   ]
  },
  {
   "cell_type": "code",
   "execution_count": 162,
   "id": "d2257b86",
   "metadata": {},
   "outputs": [
    {
     "data": {
      "text/plain": [
       "0      Sy1\n",
       "1      Sy1\n",
       "2      Sy1\n",
       "3    LINER\n",
       "4       SF\n",
       "5      Sy2\n",
       "6      Sy1\n",
       "7       SF\n",
       "Name: Type, dtype: object"
      ]
     },
     "execution_count": 162,
     "metadata": {},
     "output_type": "execute_result"
    }
   ],
   "source": [
    "df_toba.Type"
   ]
  },
  {
   "cell_type": "code",
   "execution_count": 158,
   "id": "799e31b7",
   "metadata": {},
   "outputs": [],
   "source": [
    "df_toba_2 = pd.read_csv(\"./comparison_data/toba_cmatch_2.csv\")"
   ]
  },
  {
   "cell_type": "code",
   "execution_count": 212,
   "id": "babb9483",
   "metadata": {},
   "outputs": [
    {
     "name": "stdout",
     "output_type": "stream",
     "text": [
      "              precision    recall  f1-score   support\n",
      "\n",
      " AGN+Seyfert       1.00      0.70      0.83        37\n",
      "\n",
      "   micro avg       1.00      0.70      0.83        37\n",
      "   macro avg       1.00      0.70      0.83        37\n",
      "weighted avg       1.00      0.70      0.83        37\n",
      "\n"
     ]
    }
   ],
   "source": [
    "print(classification_report(['AGN+Seyfert']*37, df_toba_2.master_class.replace(grouped_replace), labels=['AGN+Seyfert']))"
   ]
  },
  {
   "cell_type": "markdown",
   "id": "1842a890",
   "metadata": {},
   "source": [
    "#### Dominic et al. 2022\n",
    "\n",
    "Obscured AGNs\n",
    "\n",
    "---\n"
   ]
  },
  {
   "cell_type": "code",
   "execution_count": 169,
   "id": "25bde030",
   "metadata": {},
   "outputs": [],
   "source": [
    "df_dominic = pd.read_csv(\"./comparison_data/obscured_agns.csv\")\n",
    "inter_df_conf_dominic = df_class_confident.merge(df_dominic, left_on='name', right_on='name', how='inner')"
   ]
  },
  {
   "cell_type": "code",
   "execution_count": 224,
   "id": "5b6877c3",
   "metadata": {},
   "outputs": [
    {
     "data": {
      "text/html": [
       "<div>\n",
       "<style scoped>\n",
       "    .dataframe tbody tr th:only-of-type {\n",
       "        vertical-align: middle;\n",
       "    }\n",
       "\n",
       "    .dataframe tbody tr th {\n",
       "        vertical-align: top;\n",
       "    }\n",
       "\n",
       "    .dataframe thead th {\n",
       "        text-align: right;\n",
       "    }\n",
       "</style>\n",
       "<table border=\"1\" class=\"dataframe\">\n",
       "  <thead>\n",
       "    <tr style=\"text-align: right;\">\n",
       "      <th></th>\n",
       "      <th>name</th>\n",
       "    </tr>\n",
       "  </thead>\n",
       "  <tbody>\n",
       "    <tr>\n",
       "      <th>0</th>\n",
       "      <td>2CXO J000735.6+193206</td>\n",
       "    </tr>\n",
       "    <tr>\n",
       "      <th>1</th>\n",
       "      <td>2CXO J000917.2-321938</td>\n",
       "    </tr>\n",
       "    <tr>\n",
       "      <th>2</th>\n",
       "      <td>2CXO J002404.9-720455</td>\n",
       "    </tr>\n",
       "    <tr>\n",
       "      <th>3</th>\n",
       "      <td>2CXO J004429.0-202538</td>\n",
       "    </tr>\n",
       "    <tr>\n",
       "      <th>4</th>\n",
       "      <td>2CXO J004732.0-251721</td>\n",
       "    </tr>\n",
       "    <tr>\n",
       "      <th>...</th>\n",
       "      <td>...</td>\n",
       "    </tr>\n",
       "    <tr>\n",
       "      <th>116</th>\n",
       "      <td>2CXO J215141.1-055049</td>\n",
       "    </tr>\n",
       "    <tr>\n",
       "      <th>117</th>\n",
       "      <td>2CXO J215748.2-694153</td>\n",
       "    </tr>\n",
       "    <tr>\n",
       "      <th>118</th>\n",
       "      <td>2CXO J223846.8+751132</td>\n",
       "    </tr>\n",
       "    <tr>\n",
       "      <th>119</th>\n",
       "      <td>2CXO J230139.0-400719</td>\n",
       "    </tr>\n",
       "    <tr>\n",
       "      <th>120</th>\n",
       "      <td>2CXO J230748.9-223953</td>\n",
       "    </tr>\n",
       "  </tbody>\n",
       "</table>\n",
       "<p>121 rows × 1 columns</p>\n",
       "</div>"
      ],
      "text/plain": [
       "                      name\n",
       "0    2CXO J000735.6+193206\n",
       "1    2CXO J000917.2-321938\n",
       "2    2CXO J002404.9-720455\n",
       "3    2CXO J004429.0-202538\n",
       "4    2CXO J004732.0-251721\n",
       "..                     ...\n",
       "116  2CXO J215141.1-055049\n",
       "117  2CXO J215748.2-694153\n",
       "118  2CXO J223846.8+751132\n",
       "119  2CXO J230139.0-400719\n",
       "120  2CXO J230748.9-223953\n",
       "\n",
       "[121 rows x 1 columns]"
      ]
     },
     "execution_count": 224,
     "metadata": {},
     "output_type": "execute_result"
    }
   ],
   "source": [
    "df_dominic"
   ]
  },
  {
   "cell_type": "code",
   "execution_count": 206,
   "id": "a57c2eab",
   "metadata": {},
   "outputs": [
    {
     "data": {
      "text/plain": [
       "0             YSO\n",
       "1             YSO\n",
       "2             YSO\n",
       "3             YSO\n",
       "4             YSO\n",
       "5             YSO\n",
       "6              XB\n",
       "7             YSO\n",
       "8              XB\n",
       "9              XB\n",
       "10            YSO\n",
       "11             XB\n",
       "12            YSO\n",
       "13    AGN+Seyfert\n",
       "14             XB\n",
       "15            YSO\n",
       "16    AGN+Seyfert\n",
       "17            YSO\n",
       "18            YSO\n",
       "19             XB\n",
       "20    AGN+Seyfert\n",
       "21    AGN+Seyfert\n",
       "22             XB\n",
       "23    AGN+Seyfert\n",
       "24             XB\n",
       "25            YSO\n",
       "26             XB\n",
       "Name: master_class, dtype: object"
      ]
     },
     "execution_count": 206,
     "metadata": {},
     "output_type": "execute_result"
    }
   ],
   "source": [
    "inter_df_conf_dominic.master_class.replace(grouped_replace)"
   ]
  },
  {
   "cell_type": "code",
   "execution_count": 223,
   "id": "89e79b0e",
   "metadata": {},
   "outputs": [
    {
     "data": {
      "text/html": [
       "<div>\n",
       "<style scoped>\n",
       "    .dataframe tbody tr th:only-of-type {\n",
       "        vertical-align: middle;\n",
       "    }\n",
       "\n",
       "    .dataframe tbody tr th {\n",
       "        vertical-align: top;\n",
       "    }\n",
       "\n",
       "    .dataframe thead th {\n",
       "        text-align: right;\n",
       "    }\n",
       "</style>\n",
       "<table border=\"1\" class=\"dataframe\">\n",
       "  <thead>\n",
       "    <tr style=\"text-align: right;\">\n",
       "      <th></th>\n",
       "      <th>name</th>\n",
       "      <th>agg_master_class</th>\n",
       "      <th>master_class</th>\n",
       "      <th>detection_count</th>\n",
       "      <th>Orion_V*</th>\n",
       "      <th>QSO</th>\n",
       "      <th>AGN</th>\n",
       "      <th>Seyfert_1</th>\n",
       "      <th>Seyfert_2</th>\n",
       "      <th>HMXB</th>\n",
       "      <th>LMXB</th>\n",
       "      <th>XB</th>\n",
       "      <th>YSO</th>\n",
       "      <th>TTau*</th>\n",
       "    </tr>\n",
       "  </thead>\n",
       "  <tbody>\n",
       "    <tr>\n",
       "      <th>0</th>\n",
       "      <td>2CXO J132525.7-430055</td>\n",
       "      <td>YSO</td>\n",
       "      <td>YSO</td>\n",
       "      <td>8</td>\n",
       "      <td>0.247±0.101</td>\n",
       "      <td>0.0±0.0</td>\n",
       "      <td>0.081±0.031</td>\n",
       "      <td>0.0±0.0</td>\n",
       "      <td>0.0±0.0</td>\n",
       "      <td>0.0±0.0</td>\n",
       "      <td>0.0±0.0</td>\n",
       "      <td>0.0±0.0</td>\n",
       "      <td>0.328±0.868</td>\n",
       "      <td>0.0±0.0</td>\n",
       "    </tr>\n",
       "    <tr>\n",
       "      <th>1</th>\n",
       "      <td>2CXO J095550.3+694036</td>\n",
       "      <td>YSO</td>\n",
       "      <td>Orion_V*</td>\n",
       "      <td>7</td>\n",
       "      <td>0.414±0.383</td>\n",
       "      <td>0.123±0.05</td>\n",
       "      <td>0.219±0.137</td>\n",
       "      <td>0.001±0.001</td>\n",
       "      <td>0.0±0.0</td>\n",
       "      <td>0.006±0.003</td>\n",
       "      <td>0.439±0.364</td>\n",
       "      <td>0.0±0.0</td>\n",
       "      <td>0.11±0.062</td>\n",
       "      <td>0.0±0.0</td>\n",
       "    </tr>\n",
       "    <tr>\n",
       "      <th>2</th>\n",
       "      <td>2CXO J053511.5-052447</td>\n",
       "      <td>YSO</td>\n",
       "      <td>YSO</td>\n",
       "      <td>6</td>\n",
       "      <td>0.026±0.012</td>\n",
       "      <td>0.0±0.0</td>\n",
       "      <td>0.299±0.17</td>\n",
       "      <td>0.0±0.0</td>\n",
       "      <td>0.0±0.0</td>\n",
       "      <td>0.0±0.0</td>\n",
       "      <td>0.019±0.009</td>\n",
       "      <td>0.0±0.0</td>\n",
       "      <td>0.33±0.801</td>\n",
       "      <td>0.014±0.009</td>\n",
       "    </tr>\n",
       "    <tr>\n",
       "      <th>3</th>\n",
       "      <td>2CXO J053514.3-052308</td>\n",
       "      <td>YSO</td>\n",
       "      <td>YSO</td>\n",
       "      <td>6</td>\n",
       "      <td>0.147±0.135</td>\n",
       "      <td>0.0±0.0</td>\n",
       "      <td>0.0±0.0</td>\n",
       "      <td>0.0±0.0</td>\n",
       "      <td>0.0±0.0</td>\n",
       "      <td>0.002±0.001</td>\n",
       "      <td>0.001±0.0</td>\n",
       "      <td>0.0±0.0</td>\n",
       "      <td>0.157±0.817</td>\n",
       "      <td>0.074±0.046</td>\n",
       "    </tr>\n",
       "    <tr>\n",
       "      <th>4</th>\n",
       "      <td>2CXO J132959.0+471318</td>\n",
       "      <td>YSO</td>\n",
       "      <td>Orion_V*</td>\n",
       "      <td>5</td>\n",
       "      <td>0.241±0.367</td>\n",
       "      <td>0.0±0.0</td>\n",
       "      <td>0.0±0.0</td>\n",
       "      <td>0.0±0.0</td>\n",
       "      <td>0.0±0.0</td>\n",
       "      <td>0.018±0.015</td>\n",
       "      <td>0.22±0.309</td>\n",
       "      <td>0.0±0.0</td>\n",
       "      <td>0.313±0.309</td>\n",
       "      <td>0.0±0.0</td>\n",
       "    </tr>\n",
       "    <tr>\n",
       "      <th>5</th>\n",
       "      <td>2CXO J132526.1-430132</td>\n",
       "      <td>YSO</td>\n",
       "      <td>YSO</td>\n",
       "      <td>5</td>\n",
       "      <td>0.16±0.082</td>\n",
       "      <td>0.0±0.0</td>\n",
       "      <td>0.0±0.0</td>\n",
       "      <td>0.0±0.0</td>\n",
       "      <td>0.0±0.0</td>\n",
       "      <td>0.0±0.0</td>\n",
       "      <td>0.487±0.398</td>\n",
       "      <td>0.0±0.0</td>\n",
       "      <td>0.449±0.519</td>\n",
       "      <td>0.0±0.0</td>\n",
       "    </tr>\n",
       "    <tr>\n",
       "      <th>6</th>\n",
       "      <td>2CXO J132524.1-425959</td>\n",
       "      <td>XB</td>\n",
       "      <td>HMXB</td>\n",
       "      <td>4</td>\n",
       "      <td>0.047±0.027</td>\n",
       "      <td>0.0±0.0</td>\n",
       "      <td>0.006±0.003</td>\n",
       "      <td>0.001±0.001</td>\n",
       "      <td>0.002±0.001</td>\n",
       "      <td>0.148±0.851</td>\n",
       "      <td>0.134±0.083</td>\n",
       "      <td>0.0±0.0</td>\n",
       "      <td>0.056±0.034</td>\n",
       "      <td>0.0±0.0</td>\n",
       "    </tr>\n",
       "    <tr>\n",
       "      <th>7</th>\n",
       "      <td>2CXO J053517.6-052153</td>\n",
       "      <td>YSO</td>\n",
       "      <td>YSO</td>\n",
       "      <td>4</td>\n",
       "      <td>0.009±0.009</td>\n",
       "      <td>0.0±0.0</td>\n",
       "      <td>0.0±0.0</td>\n",
       "      <td>0.0±0.0</td>\n",
       "      <td>0.0±0.0</td>\n",
       "      <td>0.0±0.0</td>\n",
       "      <td>0.433±0.25</td>\n",
       "      <td>0.0±0.0</td>\n",
       "      <td>0.428±0.741</td>\n",
       "      <td>0.0±0.0</td>\n",
       "    </tr>\n",
       "    <tr>\n",
       "      <th>8</th>\n",
       "      <td>2CXO J130525.4-492831</td>\n",
       "      <td>XB</td>\n",
       "      <td>LMXB</td>\n",
       "      <td>2</td>\n",
       "      <td>0.0±0.0</td>\n",
       "      <td>0.0±0.0</td>\n",
       "      <td>0.461±0.461</td>\n",
       "      <td>0.001±0.001</td>\n",
       "      <td>0.027±0.027</td>\n",
       "      <td>0.001±0.002</td>\n",
       "      <td>0.49±0.508</td>\n",
       "      <td>0.0±0.0</td>\n",
       "      <td>0.0±0.001</td>\n",
       "      <td>0.0±0.0</td>\n",
       "    </tr>\n",
       "    <tr>\n",
       "      <th>9</th>\n",
       "      <td>2CXO J130540.7-492603</td>\n",
       "      <td>XB</td>\n",
       "      <td>LMXB</td>\n",
       "      <td>2</td>\n",
       "      <td>0.019±0.122</td>\n",
       "      <td>0.0±0.0</td>\n",
       "      <td>0.021±0.037</td>\n",
       "      <td>0.0±0.0</td>\n",
       "      <td>0.0±0.0</td>\n",
       "      <td>0.016±0.043</td>\n",
       "      <td>0.19±0.59</td>\n",
       "      <td>0.0±0.0</td>\n",
       "      <td>0.166±0.208</td>\n",
       "      <td>0.0±0.0</td>\n",
       "    </tr>\n",
       "    <tr>\n",
       "      <th>10</th>\n",
       "      <td>2CXO J013432.0+303454</td>\n",
       "      <td>YSO</td>\n",
       "      <td>Orion_V*</td>\n",
       "      <td>2</td>\n",
       "      <td>0.473±0.475</td>\n",
       "      <td>0.0±0.0</td>\n",
       "      <td>0.0±0.0</td>\n",
       "      <td>0.0±0.0</td>\n",
       "      <td>0.0±0.0</td>\n",
       "      <td>0.277±0.28</td>\n",
       "      <td>0.001±0.001</td>\n",
       "      <td>0.0±0.0</td>\n",
       "      <td>0.198±0.243</td>\n",
       "      <td>0.0±0.0</td>\n",
       "    </tr>\n",
       "    <tr>\n",
       "      <th>11</th>\n",
       "      <td>2CXO J142333.7+240247</td>\n",
       "      <td>XB</td>\n",
       "      <td>HMXB</td>\n",
       "      <td>1</td>\n",
       "      <td>0.0±0.006</td>\n",
       "      <td>0.0±0.0</td>\n",
       "      <td>0.0±0.439</td>\n",
       "      <td>0.0±0.0</td>\n",
       "      <td>0.0±0.0</td>\n",
       "      <td>0.0±0.553</td>\n",
       "      <td>0.0±0.002</td>\n",
       "      <td>0.0±0.0</td>\n",
       "      <td>0.0±0.001</td>\n",
       "      <td>0.0±0.0</td>\n",
       "    </tr>\n",
       "    <tr>\n",
       "      <th>12</th>\n",
       "      <td>2CXO J203348.6-593641</td>\n",
       "      <td>YSO</td>\n",
       "      <td>TTau*</td>\n",
       "      <td>1</td>\n",
       "      <td>0.0±0.0</td>\n",
       "      <td>0.0±0.0</td>\n",
       "      <td>0.0±0.057</td>\n",
       "      <td>0.0±0.002</td>\n",
       "      <td>0.0±0.016</td>\n",
       "      <td>0.0±0.001</td>\n",
       "      <td>0.0±0.374</td>\n",
       "      <td>0.0±0.0</td>\n",
       "      <td>0.0±0.0</td>\n",
       "      <td>0.0±0.55</td>\n",
       "    </tr>\n",
       "    <tr>\n",
       "      <th>13</th>\n",
       "      <td>2CXO J034257.7-352258</td>\n",
       "      <td>Seyfert</td>\n",
       "      <td>Seyfert_2</td>\n",
       "      <td>1</td>\n",
       "      <td>0.0±0.0</td>\n",
       "      <td>0.0±0.014</td>\n",
       "      <td>0.0±0.226</td>\n",
       "      <td>0.0±0.012</td>\n",
       "      <td>0.0±0.732</td>\n",
       "      <td>0.0±0.016</td>\n",
       "      <td>0.0±0.0</td>\n",
       "      <td>0.0±0.0</td>\n",
       "      <td>0.0±0.0</td>\n",
       "      <td>0.0±0.0</td>\n",
       "    </tr>\n",
       "    <tr>\n",
       "      <th>14</th>\n",
       "      <td>2CXO J060758.3-061405</td>\n",
       "      <td>XB</td>\n",
       "      <td>HMXB</td>\n",
       "      <td>1</td>\n",
       "      <td>0.0±0.0</td>\n",
       "      <td>0.0±0.0</td>\n",
       "      <td>0.0±0.0</td>\n",
       "      <td>0.0±0.0</td>\n",
       "      <td>0.0±0.0</td>\n",
       "      <td>0.0±1.0</td>\n",
       "      <td>0.0±0.0</td>\n",
       "      <td>0.0±0.0</td>\n",
       "      <td>0.0±0.0</td>\n",
       "      <td>0.0±0.0</td>\n",
       "    </tr>\n",
       "    <tr>\n",
       "      <th>15</th>\n",
       "      <td>2CXO J061049.4-061141</td>\n",
       "      <td>YSO</td>\n",
       "      <td>YSO</td>\n",
       "      <td>1</td>\n",
       "      <td>0.0±0.0</td>\n",
       "      <td>0.0±0.0</td>\n",
       "      <td>0.0±0.0</td>\n",
       "      <td>0.0±0.0</td>\n",
       "      <td>0.0±0.0</td>\n",
       "      <td>0.0±0.0</td>\n",
       "      <td>0.0±0.0</td>\n",
       "      <td>0.0±0.0</td>\n",
       "      <td>0.0±1.0</td>\n",
       "      <td>0.0±0.0</td>\n",
       "    </tr>\n",
       "    <tr>\n",
       "      <th>16</th>\n",
       "      <td>2CXO J053715.2-691316</td>\n",
       "      <td>AGN</td>\n",
       "      <td>AGN</td>\n",
       "      <td>1</td>\n",
       "      <td>0.0±0.0</td>\n",
       "      <td>0.0±0.0</td>\n",
       "      <td>0.0±0.914</td>\n",
       "      <td>0.0±0.0</td>\n",
       "      <td>0.0±0.006</td>\n",
       "      <td>0.0±0.079</td>\n",
       "      <td>0.0±0.001</td>\n",
       "      <td>0.0±0.0</td>\n",
       "      <td>0.0±0.0</td>\n",
       "      <td>0.0±0.0</td>\n",
       "    </tr>\n",
       "    <tr>\n",
       "      <th>17</th>\n",
       "      <td>2CXO J054140.0-015335</td>\n",
       "      <td>YSO</td>\n",
       "      <td>YSO</td>\n",
       "      <td>1</td>\n",
       "      <td>0.0±0.0</td>\n",
       "      <td>0.0±0.0</td>\n",
       "      <td>0.0±0.0</td>\n",
       "      <td>0.0±0.0</td>\n",
       "      <td>0.0±0.0</td>\n",
       "      <td>0.0±0.0</td>\n",
       "      <td>0.0±0.001</td>\n",
       "      <td>0.0±0.0</td>\n",
       "      <td>0.0±0.999</td>\n",
       "      <td>0.0±0.0</td>\n",
       "    </tr>\n",
       "    <tr>\n",
       "      <th>18</th>\n",
       "      <td>2CXO J053517.4-052105</td>\n",
       "      <td>YSO</td>\n",
       "      <td>YSO</td>\n",
       "      <td>1</td>\n",
       "      <td>0.0±0.0</td>\n",
       "      <td>0.0±0.0</td>\n",
       "      <td>0.0±0.0</td>\n",
       "      <td>0.0±0.0</td>\n",
       "      <td>0.0±0.0</td>\n",
       "      <td>0.0±0.0</td>\n",
       "      <td>0.0±0.0</td>\n",
       "      <td>0.0±0.0</td>\n",
       "      <td>0.0±1.0</td>\n",
       "      <td>0.0±0.0</td>\n",
       "    </tr>\n",
       "    <tr>\n",
       "      <th>19</th>\n",
       "      <td>2CXO J004429.0-202538</td>\n",
       "      <td>XB</td>\n",
       "      <td>LMXB</td>\n",
       "      <td>1</td>\n",
       "      <td>0.0±0.23</td>\n",
       "      <td>0.0±0.0</td>\n",
       "      <td>0.0±0.053</td>\n",
       "      <td>0.0±0.0</td>\n",
       "      <td>0.0±0.0</td>\n",
       "      <td>0.0±0.024</td>\n",
       "      <td>0.0±0.379</td>\n",
       "      <td>0.0±0.0</td>\n",
       "      <td>0.0±0.314</td>\n",
       "      <td>0.0±0.0</td>\n",
       "    </tr>\n",
       "    <tr>\n",
       "      <th>20</th>\n",
       "      <td>2CXO J000917.2-321938</td>\n",
       "      <td>AGN</td>\n",
       "      <td>AGN</td>\n",
       "      <td>1</td>\n",
       "      <td>0.0±0.0</td>\n",
       "      <td>0.0±0.0</td>\n",
       "      <td>0.0±0.346</td>\n",
       "      <td>0.0±0.173</td>\n",
       "      <td>0.0±0.036</td>\n",
       "      <td>0.0±0.117</td>\n",
       "      <td>0.0±0.327</td>\n",
       "      <td>0.0±0.0</td>\n",
       "      <td>0.0±0.0</td>\n",
       "      <td>0.0±0.001</td>\n",
       "    </tr>\n",
       "    <tr>\n",
       "      <th>21</th>\n",
       "      <td>2CXO J022751.9+281438</td>\n",
       "      <td>Seyfert</td>\n",
       "      <td>Seyfert_2</td>\n",
       "      <td>1</td>\n",
       "      <td>0.0±0.0</td>\n",
       "      <td>0.0±0.0</td>\n",
       "      <td>0.0±0.024</td>\n",
       "      <td>0.0±0.001</td>\n",
       "      <td>0.0±0.974</td>\n",
       "      <td>0.0±0.001</td>\n",
       "      <td>0.0±0.0</td>\n",
       "      <td>0.0±0.0</td>\n",
       "      <td>0.0±0.0</td>\n",
       "      <td>0.0±0.0</td>\n",
       "    </tr>\n",
       "    <tr>\n",
       "      <th>22</th>\n",
       "      <td>2CXO J014829.4+384754</td>\n",
       "      <td>XB</td>\n",
       "      <td>LMXB</td>\n",
       "      <td>1</td>\n",
       "      <td>0.0±0.001</td>\n",
       "      <td>0.0±0.0</td>\n",
       "      <td>0.0±0.299</td>\n",
       "      <td>0.0±0.031</td>\n",
       "      <td>0.0±0.007</td>\n",
       "      <td>0.0±0.027</td>\n",
       "      <td>0.0±0.635</td>\n",
       "      <td>0.0±0.0</td>\n",
       "      <td>0.0±0.001</td>\n",
       "      <td>0.0±0.0</td>\n",
       "    </tr>\n",
       "    <tr>\n",
       "      <th>23</th>\n",
       "      <td>2CXO J020931.2-101135</td>\n",
       "      <td>Seyfert</td>\n",
       "      <td>Seyfert_2</td>\n",
       "      <td>1</td>\n",
       "      <td>0.0±0.0</td>\n",
       "      <td>0.0±0.0</td>\n",
       "      <td>0.0±0.0</td>\n",
       "      <td>0.0±0.0</td>\n",
       "      <td>0.0±1.0</td>\n",
       "      <td>0.0±0.0</td>\n",
       "      <td>0.0±0.0</td>\n",
       "      <td>0.0±0.0</td>\n",
       "      <td>0.0±0.0</td>\n",
       "      <td>0.0±0.0</td>\n",
       "    </tr>\n",
       "    <tr>\n",
       "      <th>24</th>\n",
       "      <td>2CXO J015752.6+374231</td>\n",
       "      <td>XB</td>\n",
       "      <td>LMXB</td>\n",
       "      <td>1</td>\n",
       "      <td>0.0±0.027</td>\n",
       "      <td>0.0±0.0</td>\n",
       "      <td>0.0±0.182</td>\n",
       "      <td>0.0±0.004</td>\n",
       "      <td>0.0±0.001</td>\n",
       "      <td>0.0±0.33</td>\n",
       "      <td>0.0±0.376</td>\n",
       "      <td>0.0±0.0</td>\n",
       "      <td>0.0±0.079</td>\n",
       "      <td>0.0±0.0</td>\n",
       "    </tr>\n",
       "    <tr>\n",
       "      <th>25</th>\n",
       "      <td>2CXO J112729.9+565249</td>\n",
       "      <td>YSO</td>\n",
       "      <td>YSO</td>\n",
       "      <td>1</td>\n",
       "      <td>0.0±0.0</td>\n",
       "      <td>0.0±0.0</td>\n",
       "      <td>0.0±0.0</td>\n",
       "      <td>0.0±0.0</td>\n",
       "      <td>0.0±0.0</td>\n",
       "      <td>0.0±0.0</td>\n",
       "      <td>0.0±0.365</td>\n",
       "      <td>0.0±0.0</td>\n",
       "      <td>0.0±0.635</td>\n",
       "      <td>0.0±0.0</td>\n",
       "    </tr>\n",
       "    <tr>\n",
       "      <th>26</th>\n",
       "      <td>2CXO J123038.4+413831</td>\n",
       "      <td>XB</td>\n",
       "      <td>LMXB</td>\n",
       "      <td>1</td>\n",
       "      <td>0.0±0.227</td>\n",
       "      <td>0.0±0.0</td>\n",
       "      <td>0.0±0.0</td>\n",
       "      <td>0.0±0.0</td>\n",
       "      <td>0.0±0.0</td>\n",
       "      <td>0.0±0.0</td>\n",
       "      <td>0.0±0.736</td>\n",
       "      <td>0.0±0.0</td>\n",
       "      <td>0.0±0.035</td>\n",
       "      <td>0.0±0.001</td>\n",
       "    </tr>\n",
       "  </tbody>\n",
       "</table>\n",
       "</div>"
      ],
      "text/plain": [
       "                     name agg_master_class master_class  detection_count  \\\n",
       "0   2CXO J132525.7-430055              YSO          YSO                8   \n",
       "1   2CXO J095550.3+694036              YSO     Orion_V*                7   \n",
       "2   2CXO J053511.5-052447              YSO          YSO                6   \n",
       "3   2CXO J053514.3-052308              YSO          YSO                6   \n",
       "4   2CXO J132959.0+471318              YSO     Orion_V*                5   \n",
       "5   2CXO J132526.1-430132              YSO          YSO                5   \n",
       "6   2CXO J132524.1-425959               XB         HMXB                4   \n",
       "7   2CXO J053517.6-052153              YSO          YSO                4   \n",
       "8   2CXO J130525.4-492831               XB         LMXB                2   \n",
       "9   2CXO J130540.7-492603               XB         LMXB                2   \n",
       "10  2CXO J013432.0+303454              YSO     Orion_V*                2   \n",
       "11  2CXO J142333.7+240247               XB         HMXB                1   \n",
       "12  2CXO J203348.6-593641              YSO        TTau*                1   \n",
       "13  2CXO J034257.7-352258          Seyfert    Seyfert_2                1   \n",
       "14  2CXO J060758.3-061405               XB         HMXB                1   \n",
       "15  2CXO J061049.4-061141              YSO          YSO                1   \n",
       "16  2CXO J053715.2-691316              AGN          AGN                1   \n",
       "17  2CXO J054140.0-015335              YSO          YSO                1   \n",
       "18  2CXO J053517.4-052105              YSO          YSO                1   \n",
       "19  2CXO J004429.0-202538               XB         LMXB                1   \n",
       "20  2CXO J000917.2-321938              AGN          AGN                1   \n",
       "21  2CXO J022751.9+281438          Seyfert    Seyfert_2                1   \n",
       "22  2CXO J014829.4+384754               XB         LMXB                1   \n",
       "23  2CXO J020931.2-101135          Seyfert    Seyfert_2                1   \n",
       "24  2CXO J015752.6+374231               XB         LMXB                1   \n",
       "25  2CXO J112729.9+565249              YSO          YSO                1   \n",
       "26  2CXO J123038.4+413831               XB         LMXB                1   \n",
       "\n",
       "       Orion_V*         QSO          AGN    Seyfert_1    Seyfert_2  \\\n",
       "0   0.247±0.101     0.0±0.0  0.081±0.031      0.0±0.0      0.0±0.0   \n",
       "1   0.414±0.383  0.123±0.05  0.219±0.137  0.001±0.001      0.0±0.0   \n",
       "2   0.026±0.012     0.0±0.0   0.299±0.17      0.0±0.0      0.0±0.0   \n",
       "3   0.147±0.135     0.0±0.0      0.0±0.0      0.0±0.0      0.0±0.0   \n",
       "4   0.241±0.367     0.0±0.0      0.0±0.0      0.0±0.0      0.0±0.0   \n",
       "5    0.16±0.082     0.0±0.0      0.0±0.0      0.0±0.0      0.0±0.0   \n",
       "6   0.047±0.027     0.0±0.0  0.006±0.003  0.001±0.001  0.002±0.001   \n",
       "7   0.009±0.009     0.0±0.0      0.0±0.0      0.0±0.0      0.0±0.0   \n",
       "8       0.0±0.0     0.0±0.0  0.461±0.461  0.001±0.001  0.027±0.027   \n",
       "9   0.019±0.122     0.0±0.0  0.021±0.037      0.0±0.0      0.0±0.0   \n",
       "10  0.473±0.475     0.0±0.0      0.0±0.0      0.0±0.0      0.0±0.0   \n",
       "11    0.0±0.006     0.0±0.0    0.0±0.439      0.0±0.0      0.0±0.0   \n",
       "12      0.0±0.0     0.0±0.0    0.0±0.057    0.0±0.002    0.0±0.016   \n",
       "13      0.0±0.0   0.0±0.014    0.0±0.226    0.0±0.012    0.0±0.732   \n",
       "14      0.0±0.0     0.0±0.0      0.0±0.0      0.0±0.0      0.0±0.0   \n",
       "15      0.0±0.0     0.0±0.0      0.0±0.0      0.0±0.0      0.0±0.0   \n",
       "16      0.0±0.0     0.0±0.0    0.0±0.914      0.0±0.0    0.0±0.006   \n",
       "17      0.0±0.0     0.0±0.0      0.0±0.0      0.0±0.0      0.0±0.0   \n",
       "18      0.0±0.0     0.0±0.0      0.0±0.0      0.0±0.0      0.0±0.0   \n",
       "19     0.0±0.23     0.0±0.0    0.0±0.053      0.0±0.0      0.0±0.0   \n",
       "20      0.0±0.0     0.0±0.0    0.0±0.346    0.0±0.173    0.0±0.036   \n",
       "21      0.0±0.0     0.0±0.0    0.0±0.024    0.0±0.001    0.0±0.974   \n",
       "22    0.0±0.001     0.0±0.0    0.0±0.299    0.0±0.031    0.0±0.007   \n",
       "23      0.0±0.0     0.0±0.0      0.0±0.0      0.0±0.0      0.0±1.0   \n",
       "24    0.0±0.027     0.0±0.0    0.0±0.182    0.0±0.004    0.0±0.001   \n",
       "25      0.0±0.0     0.0±0.0      0.0±0.0      0.0±0.0      0.0±0.0   \n",
       "26    0.0±0.227     0.0±0.0      0.0±0.0      0.0±0.0      0.0±0.0   \n",
       "\n",
       "           HMXB         LMXB       XB          YSO        TTau*  \n",
       "0       0.0±0.0      0.0±0.0  0.0±0.0  0.328±0.868      0.0±0.0  \n",
       "1   0.006±0.003  0.439±0.364  0.0±0.0   0.11±0.062      0.0±0.0  \n",
       "2       0.0±0.0  0.019±0.009  0.0±0.0   0.33±0.801  0.014±0.009  \n",
       "3   0.002±0.001    0.001±0.0  0.0±0.0  0.157±0.817  0.074±0.046  \n",
       "4   0.018±0.015   0.22±0.309  0.0±0.0  0.313±0.309      0.0±0.0  \n",
       "5       0.0±0.0  0.487±0.398  0.0±0.0  0.449±0.519      0.0±0.0  \n",
       "6   0.148±0.851  0.134±0.083  0.0±0.0  0.056±0.034      0.0±0.0  \n",
       "7       0.0±0.0   0.433±0.25  0.0±0.0  0.428±0.741      0.0±0.0  \n",
       "8   0.001±0.002   0.49±0.508  0.0±0.0    0.0±0.001      0.0±0.0  \n",
       "9   0.016±0.043    0.19±0.59  0.0±0.0  0.166±0.208      0.0±0.0  \n",
       "10   0.277±0.28  0.001±0.001  0.0±0.0  0.198±0.243      0.0±0.0  \n",
       "11    0.0±0.553    0.0±0.002  0.0±0.0    0.0±0.001      0.0±0.0  \n",
       "12    0.0±0.001    0.0±0.374  0.0±0.0      0.0±0.0     0.0±0.55  \n",
       "13    0.0±0.016      0.0±0.0  0.0±0.0      0.0±0.0      0.0±0.0  \n",
       "14      0.0±1.0      0.0±0.0  0.0±0.0      0.0±0.0      0.0±0.0  \n",
       "15      0.0±0.0      0.0±0.0  0.0±0.0      0.0±1.0      0.0±0.0  \n",
       "16    0.0±0.079    0.0±0.001  0.0±0.0      0.0±0.0      0.0±0.0  \n",
       "17      0.0±0.0    0.0±0.001  0.0±0.0    0.0±0.999      0.0±0.0  \n",
       "18      0.0±0.0      0.0±0.0  0.0±0.0      0.0±1.0      0.0±0.0  \n",
       "19    0.0±0.024    0.0±0.379  0.0±0.0    0.0±0.314      0.0±0.0  \n",
       "20    0.0±0.117    0.0±0.327  0.0±0.0      0.0±0.0    0.0±0.001  \n",
       "21    0.0±0.001      0.0±0.0  0.0±0.0      0.0±0.0      0.0±0.0  \n",
       "22    0.0±0.027    0.0±0.635  0.0±0.0    0.0±0.001      0.0±0.0  \n",
       "23      0.0±0.0      0.0±0.0  0.0±0.0      0.0±0.0      0.0±0.0  \n",
       "24     0.0±0.33    0.0±0.376  0.0±0.0    0.0±0.079      0.0±0.0  \n",
       "25      0.0±0.0    0.0±0.365  0.0±0.0    0.0±0.635      0.0±0.0  \n",
       "26      0.0±0.0    0.0±0.736  0.0±0.0    0.0±0.035    0.0±0.001  "
      ]
     },
     "execution_count": 223,
     "metadata": {},
     "output_type": "execute_result"
    }
   ],
   "source": [
    "inter_df_conf_dominic"
   ]
  },
  {
   "cell_type": "code",
   "execution_count": 208,
   "id": "e530c136",
   "metadata": {},
   "outputs": [
    {
     "name": "stdout",
     "output_type": "stream",
     "text": [
      "              precision    recall  f1-score   support\n",
      "\n",
      " AGN+Seyfert       1.00      0.19      0.31        27\n",
      "\n",
      "   micro avg       1.00      0.19      0.31        27\n",
      "   macro avg       1.00      0.19      0.31        27\n",
      "weighted avg       1.00      0.19      0.31        27\n",
      "\n"
     ]
    }
   ],
   "source": [
    "print(classification_report(['AGN+Seyfert']*27, inter_df_conf_dominic.master_class.replace(grouped_replace), labels=['AGN+Seyfert']))"
   ]
  },
  {
   "cell_type": "code",
   "execution_count": 205,
   "id": "6db0a2cf",
   "metadata": {},
   "outputs": [
    {
     "data": {
      "text/plain": [
       "agg_master_class\n",
       "AGN        0.074074\n",
       "Seyfert    0.111111\n",
       "XB         0.333333\n",
       "YSO        0.481481\n",
       "Name: name, dtype: float64"
      ]
     },
     "execution_count": 205,
     "metadata": {},
     "output_type": "execute_result"
    }
   ],
   "source": [
    "inter_df_conf_dominic.groupby('agg_master_class')['name'].count()/27"
   ]
  }
 ],
 "metadata": {
  "kernelspec": {
   "display_name": "Python 3",
   "language": "python",
   "name": "python3"
  },
  "language_info": {
   "codemirror_mode": {
    "name": "ipython",
    "version": 3
   },
   "file_extension": ".py",
   "mimetype": "text/x-python",
   "name": "python",
   "nbconvert_exporter": "python",
   "pygments_lexer": "ipython3",
   "version": "3.9.4"
  }
 },
 "nbformat": 4,
 "nbformat_minor": 5
}
