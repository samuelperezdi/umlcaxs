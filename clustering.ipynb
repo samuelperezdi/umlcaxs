{
 "cells": [
  {
   "attachments": {},
   "cell_type": "markdown",
   "id": "075174ea",
   "metadata": {},
   "source": [
    "# Unsupervised Machine Learning for the Classification of Astrophysical X-ray Sources\n",
    "###### *Víctor Samuel Pérez Díaz<sup>1,2</sup>, Rafael Martinez-Galarza<sup>1</sup>, Alexander Caicedo-Dorado<sup>2</sup>, Raffaele D'Abrusco<sup>1</sup>*\n",
    "\n",
    "*1. Center for Astrophysics | Harvard & Smithsonian, 2. Universidad del Rosario*\n",
    "\n",
    "Contact ```vperezdiaz@cfa.harvard.edu``` for questions or comments.\n",
    "\n",
    "\n",
    "#### Clustering\n",
    "\n",
    "In this notebook we preprocess the data and then cluster it using Gaussian Mixture Models. You can find here also validations for the number of clusters.\n",
    "\n",
    "---"
   ]
  },
  {
   "cell_type": "code",
   "execution_count": null,
   "id": "bc7d0443",
   "metadata": {},
   "outputs": [],
   "source": [
    "%load_ext autoreload\n",
    "%autoreload 2\n",
    "\n",
    "from umlcaxs_lib import votable_to_pandas, lognorm, compute_bics, compute_silhouettes\n",
    "import numpy as np\n",
    "import pandas as pd\n",
    "import seaborn as sns\n",
    "import matplotlib.pyplot as plt\n",
    "import matplotlib as mpl\n",
    "from sklearn.mixture import GaussianMixture\n",
    "from astropy.coordinates import SkyCoord\n",
    "import astropy.units as u\n",
    "\n",
    "from scipy.stats import gaussian_kde\n",
    "\n",
    "%matplotlib inline"
   ]
  },
  {
   "cell_type": "code",
   "execution_count": null,
   "id": "82b82b6f",
   "metadata": {},
   "outputs": [],
   "source": [
    "# Edit the font, font size, and axes width\n",
    "\n",
    "mpl.rcParams['font.family'] = 'Avenir LT Std'\n",
    "plt.rcParams['font.size'] = 14\n",
    "plt.rcParams['axes.linewidth'] = 2"
   ]
  },
  {
   "attachments": {},
   "cell_type": "markdown",
   "id": "1b047443",
   "metadata": {},
   "source": [
    "#### Data preprocessing\n",
    "---"
   ]
  },
  {
   "cell_type": "code",
   "execution_count": null,
   "id": "868f5bbd",
   "metadata": {},
   "outputs": [],
   "source": [
    "data = votable_to_pandas(\"../../data/cscresults.vot\")"
   ]
  },
  {
   "cell_type": "code",
   "execution_count": null,
   "id": "d364f45b",
   "metadata": {},
   "outputs": [],
   "source": [
    "data.shape"
   ]
  },
  {
   "cell_type": "code",
   "execution_count": null,
   "id": "b8fea991",
   "metadata": {},
   "outputs": [],
   "source": [
    "# We define new measurement columns\n",
    "data['var_ratio_b'] = data['var_sigma_b']/data['var_mean_b']\n",
    "data['var_ratio_h'] = data['var_sigma_h']/data['var_mean_h']\n",
    "data['var_ratio_s'] = data['var_sigma_s']/data['var_mean_s']\n",
    "\n",
    "data['var_newq_b'] = ((data['var_max_b'] + data['var_min_b'])/2)/data['var_mean_b']"
   ]
  },
  {
   "cell_type": "code",
   "execution_count": null,
   "id": "e10e4405",
   "metadata": {},
   "outputs": [],
   "source": [
    "# Features that we use in our analysis\n",
    "features = ['hard_hm', 'hard_hs', 'hard_ms', 'powlaw_gamma', 'bb_kt', 'var_prob_b','var_ratio_b', 'var_prob_h', 'var_ratio_h', 'var_prob_s', 'var_ratio_s', 'var_newq_b']\n",
    "\n",
    "# Features to log transform and normalize\n",
    "features_lognorm = ['bb_kt', 'var_ratio_h', 'var_ratio_b', 'var_ratio_s', 'var_newq_b']\n",
    "\n",
    "# Features to normalize\n",
    "features_norm = ['powlaw_gamma']\n",
    "\n",
    "# Drop data with missing values in features\n",
    "X_df_out = data.dropna(subset=features)\n",
    "X_df = X_df_out[features]"
   ]
  },
  {
   "cell_type": "code",
   "execution_count": null,
   "id": "ab38eb4c",
   "metadata": {},
   "outputs": [],
   "source": [
    "print('Number of properties:', len(features))"
   ]
  },
  {
   "cell_type": "code",
   "execution_count": null,
   "id": "65e17526",
   "metadata": {},
   "outputs": [],
   "source": [
    "# Normalize or log normalize\n",
    "X_df = lognorm(X_df, features, features_norm, features_lognorm)\n",
    "X = X_df.to_numpy()"
   ]
  },
  {
   "attachments": {},
   "cell_type": "markdown",
   "id": "997fe178",
   "metadata": {},
   "source": [
    "#### BIC and Silhouette plots\n",
    "---"
   ]
  },
  {
   "cell_type": "raw",
   "id": "509c903e",
   "metadata": {},
   "source": [
    "bics_df = compute_bics(X, 20, iterations=10)\n",
    "bics_df.to_csv('./model_scores/bics_df.csv')\n",
    "\n",
    "silhouette_scores_df = compute_silhouettes(X, 20, iterations=10)\n",
    "silhouette_scores_df.to_csv('./model_scores/silhouette_scores_df.csv')"
   ]
  },
  {
   "cell_type": "code",
   "execution_count": null,
   "id": "3fe7cfb9",
   "metadata": {},
   "outputs": [],
   "source": [
    "bics_df = pd.read_csv('./model_scores/bics_df.csv', index_col=0)\n",
    "bics_df.drop(np.arange(10), inplace=True)\n",
    "\n",
    "silhouette_scores_df = pd.read_csv('./model_scores/silhouette_scores_df.csv', index_col=0)\n",
    "\n",
    "bics_df_grad = bics_df.copy(deep=True)\n",
    "bics_df_grad['grad'] = bics_df.groupby(['i'])['bic'].transform(np.gradient)"
   ]
  },
  {
   "cell_type": "code",
   "execution_count": null,
   "id": "50a71959",
   "metadata": {},
   "outputs": [],
   "source": [
    "fig, (ax1, ax2) = plt.subplots(2, 1, figsize=(10,10))\n",
    "# make a little extra space between the subplots\n",
    "fig.subplots_adjust(hspace=0.2)\n",
    "\n",
    "ax1.yaxis.set_tick_params(which='major', size=6, width=0.5, direction='out')\n",
    "ax1.yaxis.set_major_locator(mpl.ticker.MultipleLocator(100000))\n",
    "\n",
    "ax2.yaxis.set_tick_params(which='major', size=6, width=0.5, direction='out')\n",
    "ax2.yaxis.set_major_locator(mpl.ticker.MultipleLocator(40000))\n",
    "\n",
    "sns.lineplot(data=bics_df, x='k', y='bic', color='black', ci='sd', markers=True, marker='o', ax=ax1)\n",
    "ax1.set_ylabel('BIC')\n",
    "ax1.set_xlim(2, 20)\n",
    "ax1.set_xticks([2,6,10,15,20])\n",
    "ax1.grid(True)\n",
    "ax1.axvline(6, color='red', linestyle='--')\n",
    "ax1.set_xlabel('')\n",
    "\n",
    "sns.lineplot(data=bics_df_grad, x='k', y='grad', color='black', ci='sd', markers=True, marker='o', ax=ax2)\n",
    "ax2.set_ylabel('grad BIC')\n",
    "ax2.set_xlabel('Values of $K$')\n",
    "ax2.set_xlim(2, 20)\n",
    "ax2.set_xticks([2,6,10,15,20])\n",
    "ax2.grid(True)\n",
    "ax2.axvline(6, color='red', linestyle='--')\n",
    "ax2.ticklabel_format(style='sci', axis='y', scilimits=(0,0))\n",
    "\n",
    "plt.savefig('./figures/methods_1.pdf', bbox_inches='tight')"
   ]
  },
  {
   "cell_type": "code",
   "execution_count": null,
   "id": "7c346024",
   "metadata": {},
   "outputs": [],
   "source": [
    "fig, (ax1) = plt.subplots(1, 1, figsize=(10,5))\n",
    "# make a little extra space between the subplots\n",
    "fig.subplots_adjust(hspace=0.2)\n",
    "\n",
    "ax1.yaxis.set_tick_params(which='major', size=6, width=0.5, direction='out')\n",
    "ax1.yaxis.set_major_locator(mpl.ticker.MultipleLocator(0.05))\n",
    "\n",
    "sns.lineplot(data=silhouette_scores_df, x='k', y='silhouette', color='black', ci='sd', markers=True, marker='o', ax=ax1)\n",
    "ax1.set_ylabel('Silhouette Score')\n",
    "ax1.set_xlim(2, 20)\n",
    "ax1.set_xticks([2,6,10,15,20])\n",
    "ax1.grid(True)\n",
    "ax1.axvline(6, color='red', linestyle='--')\n",
    "ax1.set_xlabel('Values of $K$')\n",
    "\n",
    "plt.savefig('./figures/methods_2.pdf', bbox_inches='tight')"
   ]
  },
  {
   "attachments": {},
   "cell_type": "markdown",
   "id": "0b6b809d",
   "metadata": {},
   "source": [
    "#### GMM\n",
    "---"
   ]
  },
  {
   "cell_type": "raw",
   "id": "c75b6d91",
   "metadata": {},
   "source": [
    "# Clustering CSC2 data\n",
    "gm = GaussianMixture(n_components=6, covariance_type = 'full', random_state=42).fit(X)\n",
    "\n",
    "C = gm.means_\n",
    "labels = gm.predict(X)\n",
    "\n",
    "X_df_out_final = X_df_out.copy(deep=True)\n",
    "X_df_out_final['cluster'] = labels\n",
    "\n",
    "X_df_out_final.to_csv('cluster_data/cluster_csc.csv')"
   ]
  },
  {
   "cell_type": "raw",
   "id": "a670aef6",
   "metadata": {},
   "source": [
    "dfprovs = pd.DataFrame(gm.predict_proba(X), columns=[0,1,2,3,4,5])\n",
    "dfprovs_melted = dfprovs.copy(deep=True)\n",
    "dfprovs['cl'] = gm.predict(X)"
   ]
  },
  {
   "cell_type": "code",
   "execution_count": null,
   "id": "30d2ac53",
   "metadata": {},
   "outputs": [],
   "source": [
    "X_df_out_final = pd.read_csv('out_data/cluster_csc.csv', index_col=0)"
   ]
  },
  {
   "cell_type": "code",
   "execution_count": null,
   "id": "9b938ce1",
   "metadata": {},
   "outputs": [],
   "source": [
    "# Convert RA and Dec to galactic coordinates\n",
    "coords = SkyCoord(X_df_out_final['ra'], X_df_out_final['dec'], unit=(u.deg, u.deg), frame='icrs')\n",
    "galactic_coords = coords.galactic\n",
    "\n",
    "# Add galactic coordinates to the DataFrame\n",
    "X_df_out_final['l'] = galactic_coords.l.deg\n",
    "X_df_out_final['b'] = galactic_coords.b.deg\n",
    "\n",
    "# Define the range of galactic latitudes considered as the galactic plane\n",
    "Y = 5\n",
    "\n",
    "# Find the percentage of detections in the galactic plane for each cluster\n",
    "clusters = X_df_out_final['cluster'].unique()\n",
    "for cluster in clusters:\n",
    "    cluster_data = X_df_out_final[X_df_out_final['cluster'] == cluster]\n",
    "    in_galactic_plane = cluster_data[np.abs(cluster_data['b']) < Y]\n",
    "    percentage = (len(in_galactic_plane) / len(cluster_data)) * 100\n",
    "    print(f\"Cluster {cluster}: {percentage:.2f}% of detections are at galactic latitudes smaller than {Y} degrees\")"
   ]
  },
  {
   "attachments": {},
   "cell_type": "markdown",
   "id": "ce3e54bf",
   "metadata": {},
   "source": [
    "#### GMM plots\n",
    "---"
   ]
  },
  {
   "cell_type": "code",
   "execution_count": null,
   "id": "12a890fe",
   "metadata": {},
   "outputs": [],
   "source": [
    "markers = {0: \"o\", 1: \"X\", 2:\"P\", 3:\"v\", 4:\"s\", 5:\"^\"}\n",
    "colors = {0: \"Blues\", 1: \"Oranges\", 2:\"Greens\", 3:\"Reds\", 4:\"Purples\", 5:\"YlOrBr\"}"
   ]
  },
  {
   "cell_type": "code",
   "execution_count": null,
   "id": "cb793495",
   "metadata": {},
   "outputs": [],
   "source": [
    "xarr = X_df_out_final.ra\n",
    "yarr = X_df_out_final.dec\n",
    "eq = SkyCoord(xarr[:], yarr[:], unit=u.deg)\n",
    "gal = eq.galactic\n",
    "\n",
    "X_df_out_final['l'] = gal.l.wrap_at('180d').radian\n",
    "X_df_out_final['b'] = gal.b.radian"
   ]
  },
  {
   "cell_type": "code",
   "execution_count": null,
   "id": "85a8f27d",
   "metadata": {},
   "outputs": [],
   "source": [
    "from astroquery.simbad import Simbad\n",
    "fig = plt.figure(figsize=(8,6))\n",
    "ax = plt.subplot(111, projection='mollweide')\n",
    "ax.grid(True)\n",
    "\n",
    "scatter = sns.scatterplot(data=X_df_out_final, x='l', y='b', hue='cluster', palette=\"bright\", style='cluster', markers=markers, rasterized=True, ax=ax)\n",
    "\n",
    "plt.show()\n",
    "#plt.savefig('./figures/results_1_anno.pdf', bbox_inches='tight')  "
   ]
  },
  {
   "cell_type": "code",
   "execution_count": null,
   "id": "00e6de28",
   "metadata": {},
   "outputs": [],
   "source": [
    "df_coords = pd.DataFrame(np.concatenate([X_df_out_final.name.values.reshape(-1,1), gal.l.wrap_at('180d').radian.reshape(-1,1), gal.b.radian.reshape(-1,1), X_df_out_final.cluster.to_numpy().reshape(-1,1)], axis=1), columns=['name', 'ra', 'dec', 'cl'])\n",
    "#df_coords.drop_duplicates('name', inplace=True)\n",
    "df_coords['cl'] = df_coords.cl.astype('int')\n",
    "df_coords['ra'] = df_coords.ra.astype('double')\n",
    "df_coords['dec'] = df_coords.dec.astype('double')"
   ]
  },
  {
   "cell_type": "code",
   "execution_count": null,
   "id": "d0994916",
   "metadata": {},
   "outputs": [],
   "source": [
    "fig, axs = plt.subplots(2, 3, subplot_kw=dict(projection='mollweide'), figsize=(20,10), tight_layout=True)\n",
    "\n",
    "for i, ax in enumerate(fig.axes):\n",
    "    ax.set_title(f'Cluster {i}', size=16)\n",
    "    \n",
    "    df_coords_cl = df_coords[df_coords.cl == i]\n",
    "\n",
    "    x=df_coords_cl.ra\n",
    "    y=df_coords_cl.dec\n",
    "\n",
    "    k = gaussian_kde(np.vstack([x, y]))\n",
    "    xi, yi = np.mgrid[x.min():x.max():x.size**0.5*1j,y.min():y.max():y.size**0.5*1j]\n",
    "    zi = k(np.vstack([xi.flatten(), yi.flatten()]))\n",
    "\n",
    "    cf = ax.pcolormesh(xi, yi, zi.reshape(xi.shape), alpha=1, shading='auto', cmap=colors[i], edgecolors='none', rasterized=True)\n",
    "\n",
    "    # Contour option\n",
    "    #levels = np.linspace(0, zi.max(), 25)\n",
    "    #cf = ax.contourf(xi, yi, zi.reshape(xi.shape), levels=levels, alpha=1, cmap='Purples', rasterized=True)\n",
    "\n",
    "    #ax.scatter(data=df_coords_cl[['ra', 'dec']], x='ra', y = 'dec', s=0.1, color='black', rasterized=True)\n",
    "\n",
    "plt.savefig('./figures/results_2.pdf', bbox_inches='tight')  "
   ]
  },
  {
   "cell_type": "code",
   "execution_count": null,
   "id": "e46ac359",
   "metadata": {},
   "outputs": [],
   "source": [
    "fig, axs = plt.subplots(2, 3, figsize=(20,10), tight_layout=True)\n",
    "\n",
    "for i, ax in enumerate(fig.axes):\n",
    "    ax.set_title(f'Cluster {i}', size=16)\n",
    "    dfprovs_melted_plot = dfprovs_melted[dfprovs.cl==i].reset_index().melt(id_vars='index')\n",
    "    sns.lineplot(data=dfprovs_melted_plot, x='variable', y='value', ci='sd', ax=ax, color='black', markers=True, marker='o')\n",
    "    ax.grid(True)\n",
    "    if i>=3:\n",
    "        ax.set_xlabel('Cluster')\n",
    "    else:\n",
    "        ax.set_xlabel('')\n",
    "    ax.set_ylabel('Probability')\n",
    "\n",
    "plt.savefig('./figures/results_a1.pdf', bbox_inches='tight')  "
   ]
  },
  {
   "cell_type": "code",
   "execution_count": null,
   "id": "6e387a82",
   "metadata": {},
   "outputs": [],
   "source": [
    "colx = X_df.columns.get_loc(\"hard_hm\")\n",
    "coly = X_df.columns.get_loc(\"hard_hs\")\n",
    "\n",
    "fig = plt.figure(figsize=(10,10))\n",
    "ax = plt.subplot(111)\n",
    "ax.grid(True)\n",
    "#ax.set_rasterized(True)\n",
    "sns.scatterplot(data=X_df_out_final, x='hard_hm', y='hard_hs', hue='cluster', palette=\"bright\", style='cluster', markers=markers, s=30, rasterized=True)\n",
    "\n",
    "ax.set_xlabel(X_df.columns[colx]);\n",
    "ax.set_ylabel(X_df.columns[coly]);\n",
    "\n",
    "plt.savefig('./figures/results_4.pdf', bbox_inches='tight')  "
   ]
  },
  {
   "cell_type": "code",
   "execution_count": null,
   "id": "f9003c3a",
   "metadata": {},
   "outputs": [],
   "source": [
    "fig, axs = plt.subplots(2, 3, figsize=(20,10), tight_layout=True)\n",
    "\n",
    "for i, ax in enumerate(fig.axes):\n",
    "    ax.set_title(f'Cluster {i}', size=16)\n",
    "    \n",
    "    ax.grid(True)\n",
    "    gs=sns.scatterplot(data=X_df_out_final[X_df_out_final.cluster==i], x='hard_hm', y='hard_hs', s=30, hue='var_prob_h', palette='viridis_r', ax=ax, rasterized=True)\n",
    "    gs.legend_.remove()\n",
    "    ax.set_xlabel(X_df.columns[colx])\n",
    "    ax.set_ylabel(X_df.columns[coly])    \n",
    "    ax.set_xlim([-1.1,1.1])\n",
    "    ax.set_ylim([-1.1,1.1])\n",
    "    \n",
    "cbar_ax = fig.add_axes([1, .3, .03, .4])\n",
    "norm = plt.Normalize(X_df_out_final['var_prob_h'].min(), X_df_out_final['var_prob_h'].max())\n",
    "sm = plt.cm.ScalarMappable(cmap=\"viridis_r\", norm=norm)\n",
    "sm.set_array([])\n",
    "fig.colorbar(sm, cax=cbar_ax, label='var_prob_h')\n",
    "\n",
    "plt.savefig('./figures/results_4a.pdf', bbox_inches='tight')  "
   ]
  },
  {
   "cell_type": "code",
   "execution_count": null,
   "id": "bfeb1393",
   "metadata": {},
   "outputs": [],
   "source": [
    "plt.style.use(\"dark_background\")\n",
    "fig, axs = plt.subplots(2, 3, figsize=(20,10), tight_layout=True)\n",
    "\n",
    "for i, ax in enumerate(fig.axes):\n",
    "    sns.set(style=\"ticks\", context=\"talk\")\n",
    "    ax.set_title(f'Cluster {i}', size=16)\n",
    "    \n",
    "    #ax.grid(True)\n",
    "    ax.set_xlabel(X_df.columns[colx])\n",
    "    ax.set_ylabel(X_df.columns[coly])\n",
    "    g=sns.kdeplot(data=X_df_out_final[X_df_out_final.cluster==i], x='hard_hm', y='hard_hs', cmap='inferno', fill=True, alpha=1, ax=ax)\n",
    "    \n",
    "    ax.set_xlim([-1.1,1.1])\n",
    "    ax.set_ylim([-1.1,1.1])\n",
    "\n",
    "plt.savefig('./figures/results_4b.pdf', bbox_inches='tight')  "
   ]
  },
  {
   "cell_type": "code",
   "execution_count": null,
   "id": "79089928",
   "metadata": {},
   "outputs": [],
   "source": [
    "def move_legend(ax, new_loc, **kws):\n",
    "    '''https://github.com/mwaskom/seaborn/issues/2280'''\n",
    "    old_legend = ax.legend_\n",
    "    handles = old_legend.legendHandles\n",
    "    labels = [t.get_text() for t in old_legend.get_texts()]\n",
    "    title = old_legend.get_title().get_text()\n",
    "    ax.legend(handles, labels, loc=new_loc, title=title, **kws)\n",
    "\n",
    "def hist_plots(X_df_final_out, features, features_lognorm):\n",
    "    \n",
    "    nrow = 4; ncol = 3;\n",
    "    fig, axs = plt.subplots(nrows=nrow, ncols=ncol, figsize=(16,20))\n",
    "    fig.tight_layout(h_pad=10, w_pad=2)\n",
    "    for i, ax in enumerate(axs.reshape(-1)): \n",
    "        if i >= len(features):\n",
    "            ax.set_axis_off()\n",
    "            continue\n",
    "        ax.yaxis.set_tick_params(which='major', size=6, width=0.5, direction='in')\n",
    "        ax.yaxis.set_tick_params(which='minor', size=3, width=0.5, direction='in')\n",
    "        ax.xaxis.set_tick_params(which='major', size=6, width=0.5, direction='out')\n",
    "        ax.xaxis.set_tick_params(which='minor', size=3, width=0.5, direction='out')\n",
    "        \n",
    "        if features[i] in features_lognorm:\n",
    "            X_desc = X_df_final_out[features[i]].copy(deep=True)\n",
    "            nonzero = X_desc[X_desc!=0]\n",
    "            minval = np.min(nonzero)/10\n",
    "\n",
    "            X_df_final_out[(features[i]+'_log')] = X_desc + minval\n",
    "            axsns = sns.histplot(data=X_df_final_out, x=(features[i]+'_log'), hue='cluster', ax=ax , palette='bright', bins=60, element=\"step\", log_scale=True, stat='probability', common_norm=False)\n",
    "            ax.set_xlabel('log({})'.format(features[i]))\n",
    "        else:\n",
    "            axsns = sns.histplot(data=X_df_final_out, x=features[i], hue='cluster', ax=ax , palette='bright', bins=60, element=\"step\", stat='probability', common_norm=False)\n",
    "        \n",
    "        axsns.set(ylabel=None)\n",
    "        move_legend(ax,\n",
    "            new_loc=\"lower center\",\n",
    "            bbox_to_anchor=(.5, 1), ncol=3\n",
    "        )\n",
    "\n",
    "        plt.setp(ax.xaxis.get_majorticklabels(), rotation=90)\n",
    "    \n",
    "    plt.savefig('figures/results_5.pdf', dpi=300, transparent=False, bbox_inches='tight')"
   ]
  },
  {
   "cell_type": "code",
   "execution_count": null,
   "id": "142cbb74",
   "metadata": {},
   "outputs": [],
   "source": [
    "hist_plots(X_df_out_final, features, features_lognorm)"
   ]
  },
  {
   "cell_type": "code",
   "execution_count": null,
   "id": "7d31651a",
   "metadata": {},
   "outputs": [],
   "source": [
    "fig, ax = plt.subplots(nrows=1, ncols=1)\n",
    "ax.yaxis.set_tick_params(which='major', size=6, width=0.5, direction='in')\n",
    "ax.yaxis.set_tick_params(which='minor', size=3, width=0.5, direction='in')\n",
    "ax.xaxis.set_tick_params(which='major', size=6, width=0.5, direction='out')\n",
    "ax.xaxis.set_tick_params(which='minor', size=3, width=0.5, direction='out')\n",
    "axsns = sns.histplot(data=X_df_out_final, x='hard_hs', hue='cluster', ax=ax , palette='bright', bins=60, element=\"step\", stat='probability', common_norm=False)\n",
    "\n",
    "axsns.set(ylabel=None)\n",
    "move_legend(ax,\n",
    "new_loc=\"lower center\",\n",
    "bbox_to_anchor=(.5, 1), ncol=3\n",
    ")\n",
    "\n",
    "plt.setp(ax.xaxis.get_majorticklabels(), rotation=90)\n",
    "plt.savefig('figures/results_6a.pdf', dpi=300, transparent=False, bbox_inches='tight')"
   ]
  },
  {
   "cell_type": "code",
   "execution_count": null,
   "id": "6f063fe4",
   "metadata": {},
   "outputs": [],
   "source": [
    "fig, ax = plt.subplots(nrows=1, ncols=1)\n",
    "ax.yaxis.set_tick_params(which='major', size=6, width=0.5, direction='in')\n",
    "ax.yaxis.set_tick_params(which='minor', size=3, width=0.5, direction='in')\n",
    "ax.xaxis.set_tick_params(which='major', size=6, width=0.5, direction='out')\n",
    "ax.xaxis.set_tick_params(which='minor', size=3, width=0.5, direction='out')\n",
    "axsns = sns.histplot(data=X_df_out_final, x='var_prob_b', hue='cluster', ax=ax , palette='bright', bins=60, element=\"step\", stat='probability', common_norm=False)\n",
    "\n",
    "axsns.set(ylabel=None)\n",
    "move_legend(ax,\n",
    "new_loc=\"lower center\",\n",
    "bbox_to_anchor=(.5, 1), ncol=3\n",
    ")\n",
    "\n",
    "plt.setp(ax.xaxis.get_majorticklabels(), rotation=90)\n",
    "plt.savefig('figures/results_6b.pdf', dpi=300, transparent=False, bbox_inches='tight')"
   ]
  }
 ],
 "metadata": {
  "kernelspec": {
   "display_name": "Python 3",
   "language": "python",
   "name": "python3"
  },
  "language_info": {
   "codemirror_mode": {
    "name": "ipython",
    "version": 3
   },
   "file_extension": ".py",
   "mimetype": "text/x-python",
   "name": "python",
   "nbconvert_exporter": "python",
   "pygments_lexer": "ipython3",
   "version": "3.10.11"
  }
 },
 "nbformat": 4,
 "nbformat_minor": 5
}
