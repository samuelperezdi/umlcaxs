{
 "cells": [
  {
   "attachments": {},
   "cell_type": "markdown",
   "id": "67f3c34a",
   "metadata": {},
   "source": [
    "# Unsupervised Machine Learning for the Classification of Astrophysical X-ray Sources\n",
    "###### *Víctor Samuel Pérez Díaz<sup>1,2</sup>, Rafael Martinez-Galarza<sup>1</sup>, Alexander Caicedo-Dorado<sup>3</sup>, Raffaele D'Abrusco<sup>1</sup>*\n",
    "\n",
    "*1. Center for Astrophysics | Harvard & Smithsonian, 2. Universidad del Rosario, 3. Pontificia Universidad Javeriana*\n",
    "\n",
    "Contact ```vperezdiaz@cfa.harvard.edu``` for questions or comments.\n",
    "\n",
    "\n",
    "#### Playground\n",
    "\n",
    "---"
   ]
  },
  {
   "attachments": {},
   "cell_type": "markdown",
   "id": "65fe134e",
   "metadata": {},
   "source": [
    "#### Aladin"
   ]
  },
  {
   "cell_type": "code",
   "execution_count": 1,
   "id": "745376b6",
   "metadata": {},
   "outputs": [],
   "source": [
    "import pandas as pd\n",
    "from ipyaladin import Aladin\n",
    "from umlcaxs_lib import extract_sources_aladin"
   ]
  },
  {
   "cell_type": "code",
   "execution_count": 30,
   "id": "8c4c80b0",
   "metadata": {},
   "outputs": [],
   "source": [
    "df_class_confident_with_coords = pd.read_csv('./out_data/agreeing_class_coords.csv')\n",
    "df_classified_cscs = pd.read_csv('./out_data/classified_cscs.csv', index_col=0).sort_values(by='name')\n",
    "\n",
    "ltypes = ['QSO', 'AGN', 'Seyfert_1', 'Seyfert_2', 'HMXB', 'LMXB', 'XB', 'YSO', 'TTau*', 'Orion_V*']\n",
    "agg_types = ['AGN', 'Seyfert', 'XB', 'YSO']\n",
    "\n",
    "#df_class_confident_with_coords = df_class_confident.merge(df_classified_cscs[['name', 'ra', 'dec']].drop_duplicates('name'), on='name', how='left')"
   ]
  },
  {
   "cell_type": "code",
   "execution_count": 31,
   "id": "ca27e208",
   "metadata": {},
   "outputs": [
    {
     "data": {
      "application/vnd.jupyter.widget-view+json": {
       "model_id": "8b840fd6f6434889b7268be999f12688",
       "version_major": 2,
       "version_minor": 0
      },
      "text/plain": [
       "Aladin(fov=30.0, options=['allow_full_zoomout', 'coo_frame', 'fov', 'full_screen', 'log', 'overlay_survey', 'o…"
      ]
     },
     "execution_count": 31,
     "metadata": {},
     "output_type": "execute_result"
    }
   ],
   "source": [
    "a = Aladin(target='190.9166250 +11.5527222', fov=30, survey='P/allWISE/color')\n",
    "#a = Aladin(target='NGC 4649', fov=30, survey='P/allWISE/color')\n",
    "a"
   ]
  },
  {
   "cell_type": "code",
   "execution_count": 25,
   "id": "e71469b8",
   "metadata": {},
   "outputs": [
    {
     "name": "stdout",
     "output_type": "stream",
     "text": [
      "2322 source detections found of aggregated class AGN\n"
     ]
    }
   ],
   "source": [
    "source_type = 'AGN'\n",
    "q_res_astro = extract_sources_aladin(df_class_confident_with_coords, source_type, agg_type=True)\n",
    "a.add_table(q_res_astro[['name', 'ra', 'dec']])"
   ]
  },
  {
   "cell_type": "code",
   "execution_count": 27,
   "id": "38db1b83",
   "metadata": {},
   "outputs": [
    {
     "name": "stdout",
     "output_type": "stream",
     "text": [
      "1141 source detections found of aggregated class Seyfert\n"
     ]
    }
   ],
   "source": [
    "source_type = 'Seyfert'\n",
    "q_res_astro = extract_sources_aladin(df_class_confident_with_coords, source_type, agg_type=True)\n",
    "a.add_table(q_res_astro[['name', 'ra', 'dec']])"
   ]
  },
  {
   "cell_type": "code",
   "execution_count": 34,
   "id": "087180c5",
   "metadata": {},
   "outputs": [
    {
     "name": "stdout",
     "output_type": "stream",
     "text": [
      "2277 source detections found of aggregated class YSO\n"
     ]
    }
   ],
   "source": [
    "source_type = 'YSO'\n",
    "q_res_astro = extract_sources_aladin(df_class_confident_with_coords, source_type, agg_type=True)\n",
    "a.add_table(q_res_astro[['name_1', 'ra', 'dec']])"
   ]
  },
  {
   "cell_type": "code",
   "execution_count": 35,
   "id": "6bddedf1",
   "metadata": {},
   "outputs": [
    {
     "name": "stdout",
     "output_type": "stream",
     "text": [
      "2525 source detections found of aggregated class XB\n"
     ]
    }
   ],
   "source": [
    "source_type = 'XB'\n",
    "q_res_astro = extract_sources_aladin(df_class_confident_with_coords, source_type, agg_type=True)\n",
    "a.add_table(q_res_astro[['name_1', 'ra', 'dec']])"
   ]
  },
  {
   "cell_type": "code",
   "execution_count": 36,
   "id": "2e925c90",
   "metadata": {},
   "outputs": [
    {
     "data": {
      "text/html": [
       "<div>\n",
       "<style scoped>\n",
       "    .dataframe tbody tr th:only-of-type {\n",
       "        vertical-align: middle;\n",
       "    }\n",
       "\n",
       "    .dataframe tbody tr th {\n",
       "        vertical-align: top;\n",
       "    }\n",
       "\n",
       "    .dataframe thead th {\n",
       "        text-align: right;\n",
       "    }\n",
       "</style>\n",
       "<table border=\"1\" class=\"dataframe\">\n",
       "  <thead>\n",
       "    <tr style=\"text-align: right;\">\n",
       "      <th></th>\n",
       "      <th>name</th>\n",
       "      <th>obsid</th>\n",
       "      <th>cluster</th>\n",
       "      <th>main_type</th>\n",
       "      <th>QSO</th>\n",
       "      <th>AGN</th>\n",
       "      <th>Seyfert_1</th>\n",
       "      <th>Seyfert_2</th>\n",
       "      <th>HMXB</th>\n",
       "      <th>LMXB</th>\n",
       "      <th>...</th>\n",
       "      <th>R_simbad</th>\n",
       "      <th>J</th>\n",
       "      <th>H</th>\n",
       "      <th>K</th>\n",
       "      <th>u</th>\n",
       "      <th>g</th>\n",
       "      <th>r_simbada</th>\n",
       "      <th>i</th>\n",
       "      <th>z</th>\n",
       "      <th>angDist</th>\n",
       "    </tr>\n",
       "  </thead>\n",
       "  <tbody>\n",
       "    <tr>\n",
       "      <th>8616</th>\n",
       "      <td>2CXO J124355.0+113307</td>\n",
       "      <td>12975</td>\n",
       "      <td>5</td>\n",
       "      <td>QSO</td>\n",
       "      <td>0.973166</td>\n",
       "      <td>0.000259</td>\n",
       "      <td>0.010302</td>\n",
       "      <td>0.000162</td>\n",
       "      <td>0.007413</td>\n",
       "      <td>0.006568</td>\n",
       "      <td>...</td>\n",
       "      <td>NaN</td>\n",
       "      <td>NaN</td>\n",
       "      <td>NaN</td>\n",
       "      <td>NaN</td>\n",
       "      <td>NaN</td>\n",
       "      <td>NaN</td>\n",
       "      <td>NaN</td>\n",
       "      <td>NaN</td>\n",
       "      <td>NaN</td>\n",
       "      <td>NaN</td>\n",
       "    </tr>\n",
       "  </tbody>\n",
       "</table>\n",
       "<p>1 rows × 106 columns</p>\n",
       "</div>"
      ],
      "text/plain": [
       "                       name  obsid  cluster main_type       QSO       AGN  \\\n",
       "8616  2CXO J124355.0+113307  12975        5       QSO  0.973166  0.000259   \n",
       "\n",
       "      Seyfert_1  Seyfert_2      HMXB      LMXB  ...  R_simbad   J   H   K   u  \\\n",
       "8616   0.010302   0.000162  0.007413  0.006568  ...       NaN NaN NaN NaN NaN   \n",
       "\n",
       "       g  r_simbada   i   z  angDist  \n",
       "8616 NaN        NaN NaN NaN      NaN  \n",
       "\n",
       "[1 rows x 106 columns]"
      ]
     },
     "execution_count": 36,
     "metadata": {},
     "output_type": "execute_result"
    }
   ],
   "source": [
    "df_classified_cscs[df_classified_cscs.name == '2CXO J124355.0+113307']"
   ]
  },
  {
   "cell_type": "code",
   "execution_count": 38,
   "id": "e72cc2d8",
   "metadata": {},
   "outputs": [
    {
     "data": {
      "text/html": [
       "<div>\n",
       "<style scoped>\n",
       "    .dataframe tbody tr th:only-of-type {\n",
       "        vertical-align: middle;\n",
       "    }\n",
       "\n",
       "    .dataframe tbody tr th {\n",
       "        vertical-align: top;\n",
       "    }\n",
       "\n",
       "    .dataframe thead th {\n",
       "        text-align: right;\n",
       "    }\n",
       "</style>\n",
       "<table border=\"1\" class=\"dataframe\">\n",
       "  <thead>\n",
       "    <tr style=\"text-align: right;\">\n",
       "      <th></th>\n",
       "      <th>name_1</th>\n",
       "      <th>agg_master_class</th>\n",
       "      <th>master_class</th>\n",
       "      <th>detection_count</th>\n",
       "      <th>Orion_V*</th>\n",
       "      <th>QSO</th>\n",
       "      <th>AGN</th>\n",
       "      <th>Seyfert_1</th>\n",
       "      <th>Seyfert_2</th>\n",
       "      <th>HMXB</th>\n",
       "      <th>...</th>\n",
       "      <th>kp_prob_m</th>\n",
       "      <th>kp_prob_s</th>\n",
       "      <th>gti_start</th>\n",
       "      <th>gti_stop</th>\n",
       "      <th>gti_elapse</th>\n",
       "      <th>var_ratio_b</th>\n",
       "      <th>var_ratio_h</th>\n",
       "      <th>var_ratio_s</th>\n",
       "      <th>var_newq_b</th>\n",
       "      <th>cluster</th>\n",
       "    </tr>\n",
       "  </thead>\n",
       "  <tbody>\n",
       "    <tr>\n",
       "      <th>6975</th>\n",
       "      <td>2CXO J124355.0+113307</td>\n",
       "      <td>AGN</td>\n",
       "      <td>QSO</td>\n",
       "      <td>1</td>\n",
       "      <td>0.0Â±0.001</td>\n",
       "      <td>0.0Â±0.973</td>\n",
       "      <td>0.0Â±0.0</td>\n",
       "      <td>0.0Â±0.01</td>\n",
       "      <td>0.0Â±0.0</td>\n",
       "      <td>0.0Â±0.007</td>\n",
       "      <td>...</td>\n",
       "      <td>0.373061</td>\n",
       "      <td>0.461529</td>\n",
       "      <td>4.291769e+08</td>\n",
       "      <td>4.292630e+08</td>\n",
       "      <td>86052.90066</td>\n",
       "      <td>0.017879</td>\n",
       "      <td>0.089695</td>\n",
       "      <td>0.083362</td>\n",
       "      <td>1.071575</td>\n",
       "      <td>5</td>\n",
       "    </tr>\n",
       "  </tbody>\n",
       "</table>\n",
       "<p>1 rows × 70 columns</p>\n",
       "</div>"
      ],
      "text/plain": [
       "                     name_1 agg_master_class master_class  detection_count  \\\n",
       "6975  2CXO J124355.0+113307              AGN          QSO                1   \n",
       "\n",
       "        Orion_V*         QSO       AGN  Seyfert_1 Seyfert_2        HMXB  ...  \\\n",
       "6975  0.0Â±0.001  0.0Â±0.973  0.0Â±0.0  0.0Â±0.01  0.0Â±0.0  0.0Â±0.007  ...   \n",
       "\n",
       "     kp_prob_m kp_prob_s     gti_start      gti_stop   gti_elapse var_ratio_b  \\\n",
       "6975  0.373061  0.461529  4.291769e+08  4.292630e+08  86052.90066    0.017879   \n",
       "\n",
       "      var_ratio_h  var_ratio_s  var_newq_b  cluster  \n",
       "6975     0.089695     0.083362    1.071575        5  \n",
       "\n",
       "[1 rows x 70 columns]"
      ]
     },
     "execution_count": 38,
     "metadata": {},
     "output_type": "execute_result"
    }
   ],
   "source": [
    "df_class_confident_with_coords[df_class_confident_with_coords.name_1 == '2CXO J124355.0+113307']"
   ]
  },
  {
   "cell_type": "code",
   "execution_count": 21,
   "id": "67f3d192",
   "metadata": {},
   "outputs": [
    {
     "data": {
      "text/html": [
       "<div>\n",
       "<style scoped>\n",
       "    .dataframe tbody tr th:only-of-type {\n",
       "        vertical-align: middle;\n",
       "    }\n",
       "\n",
       "    .dataframe tbody tr th {\n",
       "        vertical-align: top;\n",
       "    }\n",
       "\n",
       "    .dataframe thead th {\n",
       "        text-align: right;\n",
       "    }\n",
       "</style>\n",
       "<table border=\"1\" class=\"dataframe\">\n",
       "  <thead>\n",
       "    <tr style=\"text-align: right;\">\n",
       "      <th></th>\n",
       "      <th>name</th>\n",
       "      <th>agg_master_class</th>\n",
       "      <th>master_class</th>\n",
       "      <th>detection_count</th>\n",
       "      <th>Orion_V*</th>\n",
       "      <th>QSO</th>\n",
       "      <th>AGN</th>\n",
       "      <th>Seyfert_1</th>\n",
       "      <th>Seyfert_2</th>\n",
       "      <th>HMXB</th>\n",
       "      <th>LMXB</th>\n",
       "      <th>XB</th>\n",
       "      <th>YSO</th>\n",
       "      <th>TTau*</th>\n",
       "    </tr>\n",
       "  </thead>\n",
       "  <tbody>\n",
       "    <tr>\n",
       "      <th>6975</th>\n",
       "      <td>2CXO J124355.0+113307</td>\n",
       "      <td>AGN</td>\n",
       "      <td>QSO</td>\n",
       "      <td>1</td>\n",
       "      <td>0.0±0.001</td>\n",
       "      <td>0.0±0.973</td>\n",
       "      <td>0.0±0.0</td>\n",
       "      <td>0.0±0.01</td>\n",
       "      <td>0.0±0.0</td>\n",
       "      <td>0.0±0.007</td>\n",
       "      <td>0.0±0.007</td>\n",
       "      <td>0.0±0.0</td>\n",
       "      <td>0.0±0.001</td>\n",
       "      <td>0.0±0.0</td>\n",
       "    </tr>\n",
       "  </tbody>\n",
       "</table>\n",
       "</div>"
      ],
      "text/plain": [
       "                       name agg_master_class master_class  detection_count  \\\n",
       "6975  2CXO J124355.0+113307              AGN          QSO                1   \n",
       "\n",
       "       Orion_V*        QSO      AGN Seyfert_1 Seyfert_2       HMXB       LMXB  \\\n",
       "6975  0.0±0.001  0.0±0.973  0.0±0.0  0.0±0.01   0.0±0.0  0.0±0.007  0.0±0.007   \n",
       "\n",
       "           XB        YSO    TTau*  \n",
       "6975  0.0±0.0  0.0±0.001  0.0±0.0  "
      ]
     },
     "execution_count": 21,
     "metadata": {},
     "output_type": "execute_result"
    }
   ],
   "source": [
    "df_class_confident[df_class_confident.name == '2CXO J124355.0+113307']"
   ]
  }
 ],
 "metadata": {
  "kernelspec": {
   "display_name": "Python 3",
   "language": "python",
   "name": "python3"
  },
  "language_info": {
   "codemirror_mode": {
    "name": "ipython",
    "version": 3
   },
   "file_extension": ".py",
   "mimetype": "text/x-python",
   "name": "python",
   "nbconvert_exporter": "python",
   "pygments_lexer": "ipython3",
   "version": "3.11.2"
  }
 },
 "nbformat": 4,
 "nbformat_minor": 5
}
