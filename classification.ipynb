{
 "cells": [
  {
   "attachments": {},
   "cell_type": "markdown",
   "id": "molecular-stylus",
   "metadata": {},
   "source": [
    "# Unsupervised Machine Learning for the Classification of Astrophysical X-ray Sources\n",
    "###### *Víctor Samuel Pérez Díaz<sup>1,2</sup>, Rafael Martinez-Galarza<sup>1</sup>, Alexander Caicedo-Dorado<sup>2</sup>, Raffaele D'Abrusco<sup>1</sup>*\n",
    "\n",
    "*1. Center for Astrophysics | Harvard & Smithsonian, 2. Universidad del Rosario*\n",
    "\n",
    "Contact ```vperezdiaz@cfa.harvard.edu``` for questions or comments.\n",
    "\n",
    "\n",
    "#### Classification\n",
    "\n",
    "---"
   ]
  },
  {
   "cell_type": "code",
   "execution_count": 2,
   "id": "intimate-shift",
   "metadata": {},
   "outputs": [],
   "source": [
    "%load_ext autoreload\n",
    "%autoreload 2\n",
    "\n",
    "from umlcaxs_lib import votable_to_pandas, lognorm, mahalanobis, mahal_classifier_cl, create_summary_tables, mahal_classifier_all\n",
    "import numpy as np\n",
    "import pandas as pd\n",
    "import scipy as sp\n",
    "import matplotlib.pyplot as plt\n",
    "import matplotlib as mpl\n",
    "import itertools\n",
    "import seaborn as sns\n",
    "\n",
    "from collections import Counter\n",
    "\n",
    "%matplotlib inline"
   ]
  },
  {
   "cell_type": "code",
   "execution_count": 2,
   "id": "c0cc4783",
   "metadata": {},
   "outputs": [],
   "source": [
    "# Edit the font, font size, and axes width\n",
    "\n",
    "mpl.rcParams['font.family'] = 'Avenir LT Std'\n",
    "plt.rcParams['font.size'] = 14\n",
    "plt.rcParams['axes.linewidth'] = 2"
   ]
  },
  {
   "cell_type": "code",
   "execution_count": 3,
   "id": "1352e40a",
   "metadata": {},
   "outputs": [],
   "source": [
    "uks = ['Star', 'X', 'Radio', 'IR', 'Blue', 'UV', 'gamma', 'PartofG', '**']\n",
    "ltypes = ['QSO', 'AGN', 'Seyfert_1', 'Seyfert_2', 'HMXB', 'LMXB', 'XB', 'YSO', 'TTau*', 'Orion_V*']\n",
    "grouped_replace = {'QSO': 'AGN', 'Seyfert_1': 'Seyfert', 'Seyfert_2': 'Seyfert', 'HMXB': 'XB', 'LMXB':'XB', 'TTau*':'YSO', 'Orion_V*': 'YSO' }"
   ]
  },
  {
   "cell_type": "code",
   "execution_count": 3,
   "id": "78de38e5",
   "metadata": {},
   "outputs": [
    {
     "name": "stderr",
     "output_type": "stream",
     "text": [
      "/tmp/ipykernel_22809/1035316693.py:1: DtypeWarning: Columns (56,63,64,65,66,67,68,73,74) have mixed types. Specify dtype option on import or set low_memory=False.\n",
      "  df_cluster_csc_simbad = pd.read_csv('./out_data/cluster_csc_simbad.csv', index_col=0)\n"
     ]
    }
   ],
   "source": [
    "df_cluster_csc_simbad = pd.read_csv('./out_data/cluster_csc_simbad.csv', index_col=0)"
   ]
  },
  {
   "cell_type": "code",
   "execution_count": 5,
   "id": "ae90c837",
   "metadata": {
    "tags": []
   },
   "outputs": [],
   "source": [
    "nans_df_csc_simbad = df_cluster_csc_simbad.copy(deep=True).fillna({'main_type': 'NaN'})"
   ]
  },
  {
   "cell_type": "code",
   "execution_count": 6,
   "id": "5304b87a",
   "metadata": {},
   "outputs": [],
   "source": [
    "# Features that we use in our analysis\n",
    "features = ['hard_hm', 'hard_hs', 'hard_ms', 'powlaw_gamma', 'bb_kt', 'var_prob_b','var_ratio_b', 'var_prob_h', 'var_ratio_h', 'var_prob_s', 'var_ratio_s', 'var_newq_b']\n",
    "\n",
    "# Features to log transform and normalize\n",
    "features_lognorm = ['bb_kt', 'var_ratio_h', 'var_ratio_b', 'var_ratio_s', 'var_newq_b']\n",
    "\n",
    "# Features to normalize\n",
    "features_norm = ['powlaw_gamma']\n",
    "\n",
    "# Drop data with missing values in features\n",
    "df_cscs_out = nans_df_csc_simbad.dropna(subset=features)"
   ]
  },
  {
   "cell_type": "code",
   "execution_count": 7,
   "id": "523c029e",
   "metadata": {},
   "outputs": [],
   "source": [
    "# Normalize or log normalize\n",
    "df_cscs_lognorm = lognorm(df_cscs_out, features, features_norm, features_lognorm)"
   ]
  },
  {
   "cell_type": "code",
   "execution_count": 8,
   "id": "a4a9e070",
   "metadata": {},
   "outputs": [
    {
     "data": {
      "text/plain": [
       "14507"
      ]
     },
     "execution_count": 8,
     "metadata": {},
     "output_type": "execute_result"
    }
   ],
   "source": [
    "sum(df_cscs_lognorm.main_type.isin(uks+['NaN']))"
   ]
  },
  {
   "cell_type": "code",
   "execution_count": 9,
   "id": "db43e903",
   "metadata": {},
   "outputs": [
    {
     "name": "stdout",
     "output_type": "stream",
     "text": [
      "***Cluster 0***\n",
      "***Cluster 1***\n",
      "***Cluster 2***\n",
      "***Cluster 3***\n",
      "***Cluster 4***\n",
      "***Cluster 5***\n"
     ]
    },
    {
     "data": {
      "text/html": [
       "<div>\n",
       "<style scoped>\n",
       "    .dataframe tbody tr th:only-of-type {\n",
       "        vertical-align: middle;\n",
       "    }\n",
       "\n",
       "    .dataframe tbody tr th {\n",
       "        vertical-align: top;\n",
       "    }\n",
       "\n",
       "    .dataframe thead th {\n",
       "        text-align: right;\n",
       "    }\n",
       "</style>\n",
       "<table border=\"1\" class=\"dataframe\">\n",
       "  <thead>\n",
       "    <tr style=\"text-align: right;\">\n",
       "      <th></th>\n",
       "      <th>name</th>\n",
       "      <th>obsid</th>\n",
       "      <th>cluster</th>\n",
       "      <th>main_type</th>\n",
       "      <th>QSO</th>\n",
       "      <th>AGN</th>\n",
       "      <th>Seyfert_1</th>\n",
       "      <th>Seyfert_2</th>\n",
       "      <th>HMXB</th>\n",
       "      <th>LMXB</th>\n",
       "      <th>...</th>\n",
       "      <th>R_simbad</th>\n",
       "      <th>J</th>\n",
       "      <th>H</th>\n",
       "      <th>K</th>\n",
       "      <th>u</th>\n",
       "      <th>g</th>\n",
       "      <th>r_simbada</th>\n",
       "      <th>i</th>\n",
       "      <th>z</th>\n",
       "      <th>angDist</th>\n",
       "    </tr>\n",
       "  </thead>\n",
       "  <tbody>\n",
       "    <tr>\n",
       "      <th>0</th>\n",
       "      <td>2CXO J000010.0-501526</td>\n",
       "      <td>11997</td>\n",
       "      <td>1</td>\n",
       "      <td>QSO</td>\n",
       "      <td>7.109412e-01</td>\n",
       "      <td>1.998591e-01</td>\n",
       "      <td>3.817763e-02</td>\n",
       "      <td>1.198280e-03</td>\n",
       "      <td>2.087573e-02</td>\n",
       "      <td>4.708968e-03</td>\n",
       "      <td>...</td>\n",
       "      <td>NaN</td>\n",
       "      <td>NaN</td>\n",
       "      <td>NaN</td>\n",
       "      <td>NaN</td>\n",
       "      <td>NaN</td>\n",
       "      <td>NaN</td>\n",
       "      <td>NaN</td>\n",
       "      <td>NaN</td>\n",
       "      <td>NaN</td>\n",
       "      <td>NaN</td>\n",
       "    </tr>\n",
       "    <tr>\n",
       "      <th>1</th>\n",
       "      <td>2CXO J000019.8-245030</td>\n",
       "      <td>13394</td>\n",
       "      <td>2</td>\n",
       "      <td>QSO</td>\n",
       "      <td>7.841575e-01</td>\n",
       "      <td>2.115698e-01</td>\n",
       "      <td>4.237418e-03</td>\n",
       "      <td>8.312877e-06</td>\n",
       "      <td>2.696935e-05</td>\n",
       "      <td>9.165581e-15</td>\n",
       "      <td>...</td>\n",
       "      <td>NaN</td>\n",
       "      <td>NaN</td>\n",
       "      <td>NaN</td>\n",
       "      <td>NaN</td>\n",
       "      <td>NaN</td>\n",
       "      <td>NaN</td>\n",
       "      <td>NaN</td>\n",
       "      <td>NaN</td>\n",
       "      <td>NaN</td>\n",
       "      <td>NaN</td>\n",
       "    </tr>\n",
       "    <tr>\n",
       "      <th>2</th>\n",
       "      <td>2CXO J000025.4-245419</td>\n",
       "      <td>13394</td>\n",
       "      <td>1</td>\n",
       "      <td>Seyfert_1</td>\n",
       "      <td>4.459738e-05</td>\n",
       "      <td>1.858106e-04</td>\n",
       "      <td>6.535472e-01</td>\n",
       "      <td>3.462222e-01</td>\n",
       "      <td>3.457804e-08</td>\n",
       "      <td>1.228568e-07</td>\n",
       "      <td>...</td>\n",
       "      <td>NaN</td>\n",
       "      <td>NaN</td>\n",
       "      <td>NaN</td>\n",
       "      <td>NaN</td>\n",
       "      <td>NaN</td>\n",
       "      <td>NaN</td>\n",
       "      <td>NaN</td>\n",
       "      <td>NaN</td>\n",
       "      <td>NaN</td>\n",
       "      <td>NaN</td>\n",
       "    </tr>\n",
       "    <tr>\n",
       "      <th>3</th>\n",
       "      <td>2CXO J000027.4-500421</td>\n",
       "      <td>11742</td>\n",
       "      <td>1</td>\n",
       "      <td>AGN</td>\n",
       "      <td>1.823781e-04</td>\n",
       "      <td>8.045687e-01</td>\n",
       "      <td>6.197661e-02</td>\n",
       "      <td>3.051580e-10</td>\n",
       "      <td>1.188399e-01</td>\n",
       "      <td>1.034259e-02</td>\n",
       "      <td>...</td>\n",
       "      <td>NaN</td>\n",
       "      <td>NaN</td>\n",
       "      <td>NaN</td>\n",
       "      <td>NaN</td>\n",
       "      <td>NaN</td>\n",
       "      <td>NaN</td>\n",
       "      <td>NaN</td>\n",
       "      <td>NaN</td>\n",
       "      <td>NaN</td>\n",
       "      <td>NaN</td>\n",
       "    </tr>\n",
       "    <tr>\n",
       "      <th>4</th>\n",
       "      <td>2CXO J000027.4-500421</td>\n",
       "      <td>11997</td>\n",
       "      <td>1</td>\n",
       "      <td>Seyfert_1</td>\n",
       "      <td>4.029002e-02</td>\n",
       "      <td>4.302557e-03</td>\n",
       "      <td>8.071425e-01</td>\n",
       "      <td>1.109741e-05</td>\n",
       "      <td>4.020933e-04</td>\n",
       "      <td>2.280539e-02</td>\n",
       "      <td>...</td>\n",
       "      <td>NaN</td>\n",
       "      <td>NaN</td>\n",
       "      <td>NaN</td>\n",
       "      <td>NaN</td>\n",
       "      <td>NaN</td>\n",
       "      <td>NaN</td>\n",
       "      <td>NaN</td>\n",
       "      <td>NaN</td>\n",
       "      <td>NaN</td>\n",
       "      <td>NaN</td>\n",
       "    </tr>\n",
       "    <tr>\n",
       "      <th>5</th>\n",
       "      <td>2CXO J000028.5+623053</td>\n",
       "      <td>2810</td>\n",
       "      <td>3</td>\n",
       "      <td>AGN</td>\n",
       "      <td>2.199853e-03</td>\n",
       "      <td>7.341143e-01</td>\n",
       "      <td>1.090844e-05</td>\n",
       "      <td>2.907129e-07</td>\n",
       "      <td>4.578093e-03</td>\n",
       "      <td>2.590946e-01</td>\n",
       "      <td>...</td>\n",
       "      <td>NaN</td>\n",
       "      <td>NaN</td>\n",
       "      <td>NaN</td>\n",
       "      <td>NaN</td>\n",
       "      <td>NaN</td>\n",
       "      <td>NaN</td>\n",
       "      <td>NaN</td>\n",
       "      <td>NaN</td>\n",
       "      <td>NaN</td>\n",
       "      <td>NaN</td>\n",
       "    </tr>\n",
       "    <tr>\n",
       "      <th>6</th>\n",
       "      <td>2CXO J000031.1-500914</td>\n",
       "      <td>11997</td>\n",
       "      <td>0</td>\n",
       "      <td>Orion_V*</td>\n",
       "      <td>5.149786e-58</td>\n",
       "      <td>7.325791e-25</td>\n",
       "      <td>2.212079e-33</td>\n",
       "      <td>0.000000e+00</td>\n",
       "      <td>2.709021e-09</td>\n",
       "      <td>6.852283e-11</td>\n",
       "      <td>...</td>\n",
       "      <td>NaN</td>\n",
       "      <td>NaN</td>\n",
       "      <td>NaN</td>\n",
       "      <td>NaN</td>\n",
       "      <td>NaN</td>\n",
       "      <td>NaN</td>\n",
       "      <td>NaN</td>\n",
       "      <td>NaN</td>\n",
       "      <td>NaN</td>\n",
       "      <td>NaN</td>\n",
       "    </tr>\n",
       "    <tr>\n",
       "      <th>7</th>\n",
       "      <td>2CXO J000031.8-245458</td>\n",
       "      <td>13394</td>\n",
       "      <td>5</td>\n",
       "      <td>QSO</td>\n",
       "      <td>4.335578e-01</td>\n",
       "      <td>6.251523e-03</td>\n",
       "      <td>1.896583e-03</td>\n",
       "      <td>8.076405e-06</td>\n",
       "      <td>3.305473e-01</td>\n",
       "      <td>5.331714e-02</td>\n",
       "      <td>...</td>\n",
       "      <td>NaN</td>\n",
       "      <td>NaN</td>\n",
       "      <td>NaN</td>\n",
       "      <td>NaN</td>\n",
       "      <td>NaN</td>\n",
       "      <td>NaN</td>\n",
       "      <td>NaN</td>\n",
       "      <td>NaN</td>\n",
       "      <td>NaN</td>\n",
       "      <td>NaN</td>\n",
       "    </tr>\n",
       "    <tr>\n",
       "      <th>8</th>\n",
       "      <td>2CXO J000047.6-551937</td>\n",
       "      <td>7061</td>\n",
       "      <td>2</td>\n",
       "      <td>QSO</td>\n",
       "      <td>7.616869e-01</td>\n",
       "      <td>5.975887e-02</td>\n",
       "      <td>1.785520e-01</td>\n",
       "      <td>2.229388e-06</td>\n",
       "      <td>2.421506e-09</td>\n",
       "      <td>1.382007e-32</td>\n",
       "      <td>...</td>\n",
       "      <td>NaN</td>\n",
       "      <td>NaN</td>\n",
       "      <td>NaN</td>\n",
       "      <td>NaN</td>\n",
       "      <td>NaN</td>\n",
       "      <td>NaN</td>\n",
       "      <td>NaN</td>\n",
       "      <td>NaN</td>\n",
       "      <td>NaN</td>\n",
       "      <td>NaN</td>\n",
       "    </tr>\n",
       "    <tr>\n",
       "      <th>9</th>\n",
       "      <td>2CXO J000058.9-245449</td>\n",
       "      <td>13394</td>\n",
       "      <td>1</td>\n",
       "      <td>QSO</td>\n",
       "      <td>6.777465e-01</td>\n",
       "      <td>2.986486e-01</td>\n",
       "      <td>2.052719e-02</td>\n",
       "      <td>3.545975e-05</td>\n",
       "      <td>2.002315e-04</td>\n",
       "      <td>7.983729e-06</td>\n",
       "      <td>...</td>\n",
       "      <td>NaN</td>\n",
       "      <td>NaN</td>\n",
       "      <td>NaN</td>\n",
       "      <td>NaN</td>\n",
       "      <td>NaN</td>\n",
       "      <td>NaN</td>\n",
       "      <td>NaN</td>\n",
       "      <td>NaN</td>\n",
       "      <td>NaN</td>\n",
       "      <td>NaN</td>\n",
       "    </tr>\n",
       "  </tbody>\n",
       "</table>\n",
       "<p>10 rows × 106 columns</p>\n",
       "</div>"
      ],
      "text/plain": [
       "                    name  obsid cluster  main_type           QSO  \\\n",
       "0  2CXO J000010.0-501526  11997       1        QSO  7.109412e-01   \n",
       "1  2CXO J000019.8-245030  13394       2        QSO  7.841575e-01   \n",
       "2  2CXO J000025.4-245419  13394       1  Seyfert_1  4.459738e-05   \n",
       "3  2CXO J000027.4-500421  11742       1        AGN  1.823781e-04   \n",
       "4  2CXO J000027.4-500421  11997       1  Seyfert_1  4.029002e-02   \n",
       "5  2CXO J000028.5+623053   2810       3        AGN  2.199853e-03   \n",
       "6  2CXO J000031.1-500914  11997       0   Orion_V*  5.149786e-58   \n",
       "7  2CXO J000031.8-245458  13394       5        QSO  4.335578e-01   \n",
       "8  2CXO J000047.6-551937   7061       2        QSO  7.616869e-01   \n",
       "9  2CXO J000058.9-245449  13394       1        QSO  6.777465e-01   \n",
       "\n",
       "            AGN     Seyfert_1     Seyfert_2          HMXB          LMXB  ...  \\\n",
       "0  1.998591e-01  3.817763e-02  1.198280e-03  2.087573e-02  4.708968e-03  ...   \n",
       "1  2.115698e-01  4.237418e-03  8.312877e-06  2.696935e-05  9.165581e-15  ...   \n",
       "2  1.858106e-04  6.535472e-01  3.462222e-01  3.457804e-08  1.228568e-07  ...   \n",
       "3  8.045687e-01  6.197661e-02  3.051580e-10  1.188399e-01  1.034259e-02  ...   \n",
       "4  4.302557e-03  8.071425e-01  1.109741e-05  4.020933e-04  2.280539e-02  ...   \n",
       "5  7.341143e-01  1.090844e-05  2.907129e-07  4.578093e-03  2.590946e-01  ...   \n",
       "6  7.325791e-25  2.212079e-33  0.000000e+00  2.709021e-09  6.852283e-11  ...   \n",
       "7  6.251523e-03  1.896583e-03  8.076405e-06  3.305473e-01  5.331714e-02  ...   \n",
       "8  5.975887e-02  1.785520e-01  2.229388e-06  2.421506e-09  1.382007e-32  ...   \n",
       "9  2.986486e-01  2.052719e-02  3.545975e-05  2.002315e-04  7.983729e-06  ...   \n",
       "\n",
       "   R_simbad   J   H   K   u   g  r_simbada   i   z  angDist  \n",
       "0       NaN NaN NaN NaN NaN NaN        NaN NaN NaN      NaN  \n",
       "1       NaN NaN NaN NaN NaN NaN        NaN NaN NaN      NaN  \n",
       "2       NaN NaN NaN NaN NaN NaN        NaN NaN NaN      NaN  \n",
       "3       NaN NaN NaN NaN NaN NaN        NaN NaN NaN      NaN  \n",
       "4       NaN NaN NaN NaN NaN NaN        NaN NaN NaN      NaN  \n",
       "5       NaN NaN NaN NaN NaN NaN        NaN NaN NaN      NaN  \n",
       "6       NaN NaN NaN NaN NaN NaN        NaN NaN NaN      NaN  \n",
       "7       NaN NaN NaN NaN NaN NaN        NaN NaN NaN      NaN  \n",
       "8       NaN NaN NaN NaN NaN NaN        NaN NaN NaN      NaN  \n",
       "9       NaN NaN NaN NaN NaN NaN        NaN NaN NaN      NaN  \n",
       "\n",
       "[10 rows x 106 columns]"
      ]
     },
     "execution_count": 9,
     "metadata": {},
     "output_type": "execute_result"
    }
   ],
   "source": [
    "classified_df = mahal_classifier_all(df_cscs_lognorm, df_cscs_out, features, ltypes, uks=uks)\n",
    "classified_df.head(10)"
   ]
  },
  {
   "cell_type": "code",
   "execution_count": 10,
   "id": "eb48cea0",
   "metadata": {},
   "outputs": [],
   "source": [
    "classified_df.to_csv('./out_data/classified_cscs.csv')"
   ]
  },
  {
   "cell_type": "code",
   "execution_count": 11,
   "id": "11c803be",
   "metadata": {},
   "outputs": [
    {
     "data": {
      "text/plain": [
       "8756"
      ]
     },
     "execution_count": 11,
     "metadata": {},
     "output_type": "execute_result"
    }
   ],
   "source": [
    "len(classified_df.name.unique())"
   ]
  },
  {
   "attachments": {},
   "cell_type": "markdown",
   "id": "25647841",
   "metadata": {},
   "source": [
    "#### Create classification summary table\n",
    "---"
   ]
  },
  {
   "cell_type": "code",
   "execution_count": 4,
   "id": "f5d5b53f",
   "metadata": {},
   "outputs": [],
   "source": [
    "classified_df = pd.read_csv('./out_data/classified_cscs.csv', index_col=0)"
   ]
  },
  {
   "cell_type": "code",
   "execution_count": 7,
   "id": "4c18ad10",
   "metadata": {},
   "outputs": [
    {
     "name": "stdout",
     "output_type": "stream",
     "text": [
      "6802 sources (77.68%) have 1 detections.\n",
      "1000 sources (11.42%) have 2 detections.\n",
      "882 sources (10.07%) have 3-10 detections.\n",
      "72 sources (0.82%) have >10 detections.\n"
     ]
    }
   ],
   "source": [
    "counts = classified_df['name'].value_counts()\n",
    "\n",
    "# Define bins for the grouping\n",
    "bins = [1, 2, 3, 11, np.inf]\n",
    "labels = ['1', '2', '3-10', '>10']\n",
    "\n",
    "# Group the data based on the defined bins\n",
    "grouped_counts = pd.cut(counts, bins=bins, labels=labels, right=False).value_counts()\n",
    "\n",
    "# Sort the result by the index (the bins)\n",
    "grouped_counts = grouped_counts.sort_index()\n",
    "\n",
    "# Calculate the total number of sources\n",
    "total_sources = grouped_counts.sum()\n",
    "\n",
    "# Print the result with percentage\n",
    "for range, num_sources in grouped_counts.items():\n",
    "    percentage = (num_sources / total_sources) * 100\n",
    "    print(f\"{num_sources} sources ({percentage:.2f}%) have {range} detections.\")"
   ]
  },
  {
   "cell_type": "code",
   "execution_count": 12,
   "id": "d66a037f",
   "metadata": {},
   "outputs": [
    {
     "name": "stdout",
     "output_type": "stream",
     "text": [
      "There are 8756 unique classified sources...\n"
     ]
    }
   ],
   "source": [
    "print(f'There are {len(np.unique(classified_df.name))} unique classified sources...')"
   ]
  },
  {
   "cell_type": "code",
   "execution_count": null,
   "id": "44339a3d",
   "metadata": {},
   "outputs": [],
   "source": [
    "fig, ax = plt.subplots(1, figsize=(8, 8))\n",
    "ax.yaxis.set_tick_params(which='major', size=6, width=0.5, direction='out')\n",
    "ax.yaxis.set_tick_params(which='minor', size=3, width=0.5, direction='in')\n",
    "ax.yaxis.set_major_locator(mpl.ticker.MultipleLocator(1000))\n",
    "ax.yaxis.set_minor_locator(mpl.ticker.MultipleLocator(250))\n",
    "#ax.grid(True)\n",
    "#sns.set_style(\"whitegrid\")\n",
    "sns.histplot(classified_df.name.value_counts().reset_index(name=\"counts\").counts, color='black', bins=20, log_scale=True, ax=ax)\n",
    "ax.set(xlabel='Count of detections', ylabel='Frequency')\n",
    "ax.set_yscale('log')\n",
    "\n",
    "plt.savefig('./figures/results_class_a_nofobs.pdf', bbox_inches='tight')  "
   ]
  },
  {
   "cell_type": "code",
   "execution_count": 13,
   "id": "f0f1d8de",
   "metadata": {
    "scrolled": true
   },
   "outputs": [],
   "source": [
    "def mean_std_round(x): return (str(round(np.mean(x), 3)) + '±' + str(round(np.std(x), 3)))\n",
    "summ_table = classified_df.groupby('name')[ltypes].agg(mean_std_round)\n",
    "summ_table['detection_count'] = classified_df.groupby(['name']).size()\n",
    "\n",
    "summ_table_prov = classified_df.groupby('name')[ltypes].agg(['mean', 'std'])\n",
    "class_mean_names = [list(tup) for tup in itertools.product(ltypes, ['mean'], repeat=1)]\n",
    "names_comp = summ_table_prov[class_mean_names].idxmax(axis=1).to_list()\n",
    "master_names = [name[0] for name in names_comp]\n",
    "summ_table['soft_master_class'] = master_names\n",
    "summ_table.sort_values('detection_count', ascending=False, inplace=True)"
   ]
  },
  {
   "cell_type": "code",
   "execution_count": 14,
   "id": "89b37b39",
   "metadata": {},
   "outputs": [],
   "source": [
    "n_obs = 0\n",
    "class_df_grouped = classified_df.copy(deep=True)\n",
    "def most_common(x): \n",
    "    most_common,name_most_common = Counter(x).most_common(1)[0]\n",
    "    return(most_common) \n",
    "\n",
    "summ_table_hard = class_df_grouped.groupby(['name']).size().to_frame(name='detection_count')\n",
    "summ_table_hard = summ_table_hard[summ_table_hard.detection_count > n_obs]\n",
    "summ_table_hard['hard_master_class'] = class_df_grouped.groupby(['name'])['main_type'].agg(most_common)\n",
    "summ_table_hard.sort_values('detection_count', ascending=False, inplace=True)"
   ]
  },
  {
   "cell_type": "code",
   "execution_count": 15,
   "id": "e6301f47",
   "metadata": {},
   "outputs": [],
   "source": [
    "agreeing_class_df = summ_table[summ_table.soft_master_class == summ_table_hard.hard_master_class].copy(deep=True)\n",
    "agreeing_class_df = agreeing_class_df.rename(columns={'soft_master_class':'master_class'})\n",
    "agreeing_class_df['agg_master_class'] = agreeing_class_df.master_class.replace(grouped_replace)"
   ]
  },
  {
   "cell_type": "code",
   "execution_count": 17,
   "id": "aeb7c63d",
   "metadata": {},
   "outputs": [
    {
     "data": {
      "text/plain": [
       "(8271, 13)"
      ]
     },
     "execution_count": 17,
     "metadata": {},
     "output_type": "execute_result"
    }
   ],
   "source": [
    "agreeing_class_df.shape"
   ]
  },
  {
   "cell_type": "code",
   "execution_count": null,
   "id": "d98f7a1e",
   "metadata": {},
   "outputs": [],
   "source": [
    "cols = agreeing_class_df.columns.tolist()\n",
    "first_cols = cols[-3:]\n",
    "first_cols.reverse()\n",
    "cols = first_cols + cols[:-3]\n",
    "agreeing_class_df_out = agreeing_class_df[cols]"
   ]
  },
  {
   "cell_type": "code",
   "execution_count": null,
   "id": "e493f603",
   "metadata": {},
   "outputs": [],
   "source": [
    "agreeing_class_df_out.to_csv('./out_data/agreeing_classification.csv')"
   ]
  },
  {
   "cell_type": "code",
   "execution_count": 18,
   "id": "232e593d",
   "metadata": {},
   "outputs": [],
   "source": [
    "confused_class_df = summ_table[summ_table.soft_master_class != summ_table_hard.hard_master_class].copy(deep=True)\n",
    "confused_class_df['hard_master_class'] = summ_table_hard.hard_master_class"
   ]
  },
  {
   "cell_type": "code",
   "execution_count": 20,
   "id": "aa65e812",
   "metadata": {},
   "outputs": [
    {
     "data": {
      "text/plain": [
       "(485, 13)"
      ]
     },
     "execution_count": 20,
     "metadata": {},
     "output_type": "execute_result"
    }
   ],
   "source": [
    "confused_class_df.shape"
   ]
  },
  {
   "cell_type": "code",
   "execution_count": null,
   "id": "85bc5247",
   "metadata": {},
   "outputs": [],
   "source": [
    "cols = confused_class_df.columns.tolist()\n",
    "first_cols = cols[-3:]\n",
    "first_cols.reverse()\n",
    "cols = first_cols + cols[:-3]\n",
    "confused_class_df_out = confused_class_df[cols]"
   ]
  },
  {
   "cell_type": "code",
   "execution_count": null,
   "id": "c7673b5d",
   "metadata": {},
   "outputs": [],
   "source": [
    "confused_class_df_out.to_csv('./out_data/confused_classification.csv')"
   ]
  }
 ],
 "metadata": {
  "interpreter": {
   "hash": "11d41d6631468f14d705776df5667f6bffd4ae088cf4427f5dbcbac068467dc6"
  },
  "kernelspec": {
   "display_name": "Python 3",
   "language": "python",
   "name": "python3"
  },
  "language_info": {
   "codemirror_mode": {
    "name": "ipython",
    "version": 3
   },
   "file_extension": ".py",
   "mimetype": "text/x-python",
   "name": "python",
   "nbconvert_exporter": "python",
   "pygments_lexer": "ipython3",
   "version": "3.11.2"
  }
 },
 "nbformat": 4,
 "nbformat_minor": 5
}
