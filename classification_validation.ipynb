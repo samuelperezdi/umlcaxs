{
 "cells": [
  {
   "attachments": {},
   "cell_type": "markdown",
   "id": "molecular-stylus",
   "metadata": {},
   "source": [
    "# Unsupervised Machine Learning for the Classification of Astrophysical X-ray Sources\n",
    "###### *Víctor Samuel Pérez Díaz<sup>1,2</sup>, Rafael Martinez-Galarza<sup>1</sup>, Alexander Caicedo-Dorado<sup>2</sup>, Raffaele D'Abrusco<sup>1</sup>*\n",
    "\n",
    "*1. Center for Astrophysics | Harvard & Smithsonian, 2. Universidad del Rosario*\n",
    "\n",
    "Contact ```vperezdiaz@cfa.harvard.edu``` for questions or comments.\n",
    "\n",
    "\n",
    "#### Classification validation\n",
    "\n",
    "---"
   ]
  },
  {
   "cell_type": "code",
   "execution_count": 15,
   "id": "intimate-shift",
   "metadata": {},
   "outputs": [
    {
     "name": "stdout",
     "output_type": "stream",
     "text": [
      "The autoreload extension is already loaded. To reload it, use:\n",
      "  %reload_ext autoreload\n"
     ]
    }
   ],
   "source": [
    "%load_ext autoreload\n",
    "%autoreload 2\n",
    "\n",
    "from umlcaxs_lib import votable_to_pandas, lognorm, mahalanobis, mahal_classifier_cl, create_summary_tables, process_data_for_validation, mahal_classifier_validation\n",
    "import numpy as np\n",
    "import pandas as pd\n",
    "import scipy as sp\n",
    "import matplotlib.pyplot as plt\n",
    "import matplotlib as mpl\n",
    "import itertools\n",
    "import seaborn as sns\n",
    "\n",
    "from imblearn.over_sampling import RandomOverSampler\n",
    "from sklearn.svm import LinearSVC\n",
    "from sklearn.model_selection import train_test_split\n",
    "from sklearn.metrics import confusion_matrix, classification_report, accuracy_score, balanced_accuracy_score\n",
    "from statsmodels.stats import inter_rater as irr\n",
    "\n",
    "from collections import Counter\n",
    "%matplotlib inline"
   ]
  },
  {
   "cell_type": "code",
   "execution_count": 16,
   "id": "78de38e5",
   "metadata": {},
   "outputs": [],
   "source": [
    "# Edit the font, font size, and axes width\n",
    "\n",
    "mpl.rcParams['font.family'] = 'Avenir LT Std'\n",
    "plt.rcParams['font.size'] = 14\n",
    "plt.rcParams['axes.linewidth'] = 2"
   ]
  },
  {
   "cell_type": "code",
   "execution_count": 17,
   "id": "454a2c2a",
   "metadata": {},
   "outputs": [
    {
     "name": "stderr",
     "output_type": "stream",
     "text": [
      "/tmp/ipykernel_3427/1035316693.py:1: DtypeWarning: Columns (56,63,64,65,66,67,68,73,74) have mixed types. Specify dtype option on import or set low_memory=False.\n",
      "  df_cluster_csc_simbad = pd.read_csv('./out_data/cluster_csc_simbad.csv', index_col=0)\n"
     ]
    }
   ],
   "source": [
    "df_cluster_csc_simbad = pd.read_csv('./out_data/cluster_csc_simbad.csv', index_col=0)"
   ]
  },
  {
   "cell_type": "code",
   "execution_count": 18,
   "id": "ae90c837",
   "metadata": {
    "tags": []
   },
   "outputs": [],
   "source": [
    "nans_df_csc_simbad = df_cluster_csc_simbad.copy(deep=True).fillna({'main_type': 'NaN'})"
   ]
  },
  {
   "cell_type": "code",
   "execution_count": 19,
   "id": "5304b87a",
   "metadata": {},
   "outputs": [],
   "source": [
    "# Features that we use in our analysis\n",
    "features = ['hard_hm', 'hard_hs', 'hard_ms', 'powlaw_gamma', 'bb_kt', 'var_prob_b','var_ratio_b', 'var_prob_h', 'var_ratio_h', 'var_prob_s', 'var_ratio_s', 'var_newq_b']\n",
    "\n",
    "# Features to log transform and normalize\n",
    "features_lognorm = ['bb_kt', 'var_ratio_h', 'var_ratio_b', 'var_ratio_s', 'var_newq_b']\n",
    "\n",
    "# Features to normalize\n",
    "features_norm = ['powlaw_gamma']\n",
    "\n",
    "# Drop data with missing values in features\n",
    "df_cscs_out = nans_df_csc_simbad.dropna(subset=features)"
   ]
  },
  {
   "cell_type": "code",
   "execution_count": 20,
   "id": "c1b5f21f",
   "metadata": {},
   "outputs": [],
   "source": [
    "# Normalize or log normalize\n",
    "df_cscs_lognorm = lognorm(df_cscs_out, features, features_norm, features_lognorm)"
   ]
  },
  {
   "cell_type": "code",
   "execution_count": 21,
   "id": "00f85b5d",
   "metadata": {},
   "outputs": [],
   "source": [
    "uks = ['Star', 'X', 'Radio', 'IR', 'Blue', 'UV', 'gamma', 'PartofG', '**']\n",
    "ltypes = ['QSO', 'AGN', 'Seyfert_1', 'Seyfert_2', 'HMXB', 'LMXB', 'XB', 'YSO', 'TTau*', 'Orion_V*']\n",
    "grouped_replace = {'QSO': 'AGN', 'Seyfert_1': 'Seyfert', 'Seyfert_2': 'Seyfert', 'HMXB': 'XB', 'LMXB':'XB', 'TTau*':'YSO', 'Orion_V*': 'YSO' }\n",
    "data_clean = process_data_for_validation(df_cscs_lognorm, ltypes, uks=uks)"
   ]
  },
  {
   "attachments": {},
   "cell_type": "markdown",
   "id": "ed522ede",
   "metadata": {},
   "source": [
    "#### Experiment with classical classifier\n",
    "\n",
    "---"
   ]
  },
  {
   "cell_type": "code",
   "execution_count": null,
   "id": "ef3f2cb5",
   "metadata": {},
   "outputs": [],
   "source": [
    "ros = RandomOverSampler()\n",
    "X_resampled, y_resampled = ros.fit_resample(data_clean, data_clean.main_type)\n",
    "X_train, X_test, y_train, y_test = train_test_split(X_resampled, y_resampled, test_size=0.2, stratify=y_resampled, random_state=42)\n",
    "\n",
    "print(sorted(Counter(y_test).items()))\n",
    "\n",
    "clf = LinearSVC(max_iter=3000)\n",
    "clf.fit(X_train[features], y_train)\n",
    "\n",
    "cf_matrix = confusion_matrix(y_test, clf.predict(X_test[features]), normalize='true', labels=ltypes)\n",
    "fig, ax = plt.subplots(figsize=(12,10))\n",
    "sns.heatmap(cf_matrix, annot=True, xticklabels = ltypes, yticklabels = ltypes, ax=ax, vmin=0, vmax=1, cmap=\"inferno\")\n",
    "ax.set_xlabel('Predicted')\n",
    "ax.set_ylabel('True')\n",
    "plt.show()\n",
    "#plt.savefig('./figures/results_class_a_linearsvc_raw.pdf', bbox_inches='tight')"
   ]
  },
  {
   "cell_type": "code",
   "execution_count": null,
   "id": "594fa7ee",
   "metadata": {},
   "outputs": [],
   "source": [
    "X_train, X_test, y_train, y_test = train_test_split(data_clean, data_clean.main_type, test_size=0.2, stratify=data_clean.main_type, random_state=42)\n",
    "\n",
    "clf = LinearSVC(max_iter=3000)\n",
    "clf.fit(X_train[features], y_train)\n",
    "\n",
    "cf_matrix = confusion_matrix(y_test, clf.predict(X_test[features]), normalize='true', labels=ltypes)\n",
    "fig, ax = plt.subplots(figsize=(12,10))\n",
    "sns.heatmap(cf_matrix, annot=True, xticklabels = ltypes, yticklabels = ltypes, ax=ax, vmin=0, vmax=1, cmap=\"inferno\")\n",
    "ax.set_xlabel('Predicted')\n",
    "ax.set_ylabel('True')\n",
    "#plt.savefig('./figures/results_class_a_linearsvc_raw_unbalanced.pdf', bbox_inches='tight')"
   ]
  },
  {
   "cell_type": "code",
   "execution_count": null,
   "id": "dc775d50",
   "metadata": {},
   "outputs": [],
   "source": [
    "X_train, X_test, y_train, y_test = train_test_split(data_clean, data_clean.main_type, test_size=0.2, stratify=data_clean.main_type, random_state=42)\n",
    "\n",
    "from sklearn.ensemble import RandomForestClassifier\n",
    "clf = RandomForestClassifier(max_depth=1000, random_state=0)\n",
    "clf.fit(X_train[features], y_train)\n",
    "\n",
    "cf_matrix = confusion_matrix(y_test, clf.predict(X_test[features]), normalize='true', labels=ltypes)\n",
    "fig, ax = plt.subplots(figsize=(12,10))\n",
    "sns.heatmap(cf_matrix, annot=True, xticklabels = ltypes, yticklabels = ltypes, ax=ax, vmin=0, vmax=1, cmap=\"inferno\")\n",
    "ax.set_xlabel('Predicted')\n",
    "ax.set_ylabel('True')\n",
    "#plt.savefig('./figures/results_class_a_linearsvc_raw_unbalanced.pdf', bbox_inches='tight')"
   ]
  },
  {
   "cell_type": "code",
   "execution_count": null,
   "id": "c71e86ac",
   "metadata": {},
   "outputs": [],
   "source": [
    "y_test_certain_grouped = y_test.replace(grouped_replace)\n",
    "pred_class_certain_grouped = pd.DataFrame(clf.predict(X_test[features])).replace(grouped_replace)\n",
    "new_ltypes = ['AGN', 'Seyfert', 'XB', 'YSO']\n",
    "cf_matrix = confusion_matrix(y_test_certain_grouped, pred_class_certain_grouped, normalize='true', labels=new_ltypes)\n",
    "fig, ax = plt.subplots(figsize=(12,10))\n",
    "sns.heatmap(cf_matrix, annot=True, xticklabels = new_ltypes, yticklabels = new_ltypes, ax=ax, vmin=0, vmax=1, cmap=\"inferno\")\n",
    "ax.set_xlabel('Predicted')\n",
    "ax.set_ylabel('True')\n",
    "#plt.savefig('./figures/results_class_a_linearsvc_raw_unbalanced_grouped.pdf', bbox_inches='tight')"
   ]
  },
  {
   "cell_type": "code",
   "execution_count": null,
   "id": "5efc6cf9",
   "metadata": {},
   "outputs": [],
   "source": [
    "acc = accuracy_score(y_test_certain_grouped, pred_class_certain_grouped) #LSVM: 0.73\n",
    "ba_accuracy_score = balanced_accuracy_score(y_test_certain_grouped, pred_class_certain_grouped) #LSVM: 0.55"
   ]
  },
  {
   "attachments": {},
   "cell_type": "markdown",
   "id": "0a768212",
   "metadata": {},
   "source": [
    "#### Our method\n",
    "\n",
    "---"
   ]
  },
  {
   "cell_type": "code",
   "execution_count": 22,
   "id": "19b05720",
   "metadata": {},
   "outputs": [],
   "source": [
    "X_train, X_test, y_train, y_test = train_test_split(data_clean, data_clean.main_type, test_size=0.2, stratify=data_clean.main_type, random_state=42)\n",
    "y_test_sorted = X_test.sort_values(by=['name', 'obsid']).main_type\n",
    "y_test_master = X_test.groupby(['name', 'main_type'], as_index=False).size()\n",
    "X_test = X_test.assign(main_type='NaN')"
   ]
  },
  {
   "cell_type": "code",
   "execution_count": 23,
   "id": "0b90bba9",
   "metadata": {},
   "outputs": [
    {
     "data": {
      "text/plain": [
       "(8418, 96)"
      ]
     },
     "execution_count": 23,
     "metadata": {},
     "output_type": "execute_result"
    }
   ],
   "source": [
    "X_train.shape"
   ]
  },
  {
   "cell_type": "code",
   "execution_count": 24,
   "id": "273e9538",
   "metadata": {},
   "outputs": [
    {
     "data": {
      "text/plain": [
       "(2105, 96)"
      ]
     },
     "execution_count": 24,
     "metadata": {},
     "output_type": "execute_result"
    }
   ],
   "source": [
    "X_test.shape"
   ]
  },
  {
   "cell_type": "code",
   "execution_count": 25,
   "id": "98958164",
   "metadata": {},
   "outputs": [
    {
     "data": {
      "text/plain": [
       "['Star', 'X', 'Radio', 'IR', 'Blue', 'UV', 'gamma', 'PartofG', '**']"
      ]
     },
     "execution_count": 25,
     "metadata": {},
     "output_type": "execute_result"
    }
   ],
   "source": [
    "uks"
   ]
  },
  {
   "cell_type": "code",
   "execution_count": 26,
   "id": "85679059",
   "metadata": {},
   "outputs": [
    {
     "name": "stdout",
     "output_type": "stream",
     "text": [
      "***Cluster 0***\n",
      "***Cluster 1***\n",
      "***Cluster 2***\n",
      "***Cluster 3***\n",
      "***Cluster 4***\n",
      "***Cluster 5***\n"
     ]
    }
   ],
   "source": [
    "pred_class_df = mahal_classifier_validation(X_train, X_test, features, ltypes, uks=uks)"
   ]
  },
  {
   "cell_type": "code",
   "execution_count": null,
   "id": "0b1666a6",
   "metadata": {},
   "outputs": [],
   "source": [
    "cf_matrix = confusion_matrix(y_test_sorted, pred_class_df.main_type, normalize='true', labels=ltypes)\n",
    "fig, ax = plt.subplots(figsize=(12,10))\n",
    "sns.heatmap(cf_matrix, annot=True, xticklabels = ltypes, yticklabels = ltypes, ax=ax, vmin=0, vmax=1, cmap=\"inferno\")\n",
    "ax.set_xlabel('Predicted')\n",
    "ax.set_ylabel('True')\n",
    "#plt.savefig('./figures/results_class_confusion_raw_out.pdf', bbox_inches='tight')"
   ]
  },
  {
   "cell_type": "code",
   "execution_count": 27,
   "id": "6e31a8bb",
   "metadata": {},
   "outputs": [
    {
     "data": {
      "text/plain": [
       "Text(115.80034722222221, 0.5, 'True')"
      ]
     },
     "execution_count": 27,
     "metadata": {},
     "output_type": "execute_result"
    },
    {
     "data": {
      "image/png": "[encoded data removed]",
      "text/plain": [
       "<Figure size 1200x1000 with 2 Axes>"
      ]
     },
     "metadata": {},
     "output_type": "display_data"
    }
   ],
   "source": [
    "y_test_certain_grouped = y_test_sorted.replace(grouped_replace)\n",
    "pred_class_certain_grouped =  pred_class_df.main_type.replace(grouped_replace)\n",
    "new_ltypes = ['AGN', 'Seyfert', 'XB', 'YSO']\n",
    "cf_matrix = confusion_matrix(y_test_certain_grouped, pred_class_certain_grouped, normalize='true', labels=new_ltypes)\n",
    "fig, ax = plt.subplots(figsize=(12,10))\n",
    "sns.heatmap(cf_matrix, annot=True, xticklabels = new_ltypes, yticklabels = new_ltypes, ax=ax, vmin=0, vmax=1, cmap=\"inferno\")\n",
    "ax.set_xlabel('Predicted')\n",
    "ax.set_ylabel('True')\n",
    "#plt.savefig('./figures/results_class_confusion_raw_grouped_out.pdf', bbox_inches='tight')"
   ]
  },
  {
   "cell_type": "code",
   "execution_count": 28,
   "id": "176efed0",
   "metadata": {},
   "outputs": [],
   "source": [
    "acc = accuracy_score(y_test_certain_grouped, pred_class_certain_grouped) #Ours: 0.68\n",
    "ba_accuracy_score = balanced_accuracy_score(y_test_certain_grouped, pred_class_certain_grouped) #Ours: 0.61"
   ]
  },
  {
   "cell_type": "code",
   "execution_count": null,
   "id": "4e6bd5cf",
   "metadata": {},
   "outputs": [],
   "source": [
    "prob_mask = pred_class_df[ltypes].max(axis=1) > 0.7\n",
    "pred_class_certain = pred_class_df[prob_mask.to_numpy()]\n",
    "y_test_certain = y_test_sorted[prob_mask.to_numpy()]"
   ]
  },
  {
   "cell_type": "code",
   "execution_count": null,
   "id": "027fad78",
   "metadata": {},
   "outputs": [],
   "source": [
    "cf_matrix = confusion_matrix(y_test_certain, pred_class_certain.main_type, normalize='true', labels=ltypes)\n",
    "fig, ax = plt.subplots(figsize=(12,10))\n",
    "sns.heatmap(cf_matrix, annot=True, xticklabels = ltypes, yticklabels = ltypes, ax=ax, vmin=0, vmax=1, cmap=\"inferno\")\n",
    "ax.set_xlabel('Predicted')\n",
    "ax.set_ylabel('True')\n",
    "plt.savefig('./figures/results_class_confusion_confident_out.pdf', bbox_inches='tight')"
   ]
  },
  {
   "cell_type": "code",
   "execution_count": null,
   "id": "37537211",
   "metadata": {},
   "outputs": [],
   "source": [
    "y_test_certain_grouped = y_test_certain.replace(grouped_replace)\n",
    "pred_class_certain_grouped = pred_class_certain.main_type.replace(grouped_replace)\n",
    "\n",
    "cf_matrix = confusion_matrix(y_test_certain_grouped, pred_class_certain_grouped, normalize='true', labels=new_ltypes)\n",
    "fig, ax = plt.subplots(figsize=(12,10))\n",
    "sns.heatmap(cf_matrix, annot=True, xticklabels = new_ltypes, yticklabels = new_ltypes, ax=ax, vmin=0, vmax=1, cmap=\"inferno\")\n",
    "ax.set_xlabel('Predicted')\n",
    "ax.set_ylabel('True')\n",
    "plt.savefig('./figures/results_class_confusion_confident_grouped_out.pdf', bbox_inches='tight')"
   ]
  },
  {
   "cell_type": "code",
   "execution_count": null,
   "id": "296c3667",
   "metadata": {},
   "outputs": [],
   "source": [
    "def mean_std_round(x): return (str(round(np.std(x), 3)) + '±' + str(round(np.mean(x), 3)))\n",
    "summ_table = pred_class_df.groupby('name')[ltypes].agg(mean_std_round)\n",
    "summ_table['obs_count'] = pred_class_df.groupby(['name']).size()\n",
    "\n",
    "summ_table_prov = pred_class_df.groupby('name')[ltypes].agg(['mean', 'std'])\n",
    "class_mean_names = [list(tup) for tup in itertools.product(ltypes, ['mean'], repeat=1)]\n",
    "names_comp = summ_table_prov[class_mean_names].idxmax(axis=1).to_list()\n",
    "master_names = [name[0] for name in names_comp]\n",
    "summ_table['master_class'] = master_names\n",
    "summ_table.sort_values('obs_count', ascending=False, inplace=True)"
   ]
  },
  {
   "cell_type": "code",
   "execution_count": null,
   "id": "aa2c6681",
   "metadata": {},
   "outputs": [],
   "source": [
    "n_obs = 0\n",
    "y_true = y_test_master[y_test_master['size'] > n_obs].sort_values(by='name').main_type\n",
    "y_pred = summ_table[summ_table['obs_count'] > n_obs].sort_values(by='name').master_class"
   ]
  },
  {
   "cell_type": "code",
   "execution_count": null,
   "id": "21e88b7c",
   "metadata": {},
   "outputs": [],
   "source": [
    "cf_matrix = confusion_matrix(y_true, y_pred, normalize='true', labels=ltypes)\n",
    "fig, ax = plt.subplots(figsize=(12,10))\n",
    "sns.heatmap(cf_matrix, annot=True, xticklabels = ltypes, yticklabels = ltypes, ax=ax, vmin=0, vmax=1, cmap=\"inferno\")\n",
    "ax.set_xlabel('Predicted')\n",
    "ax.set_ylabel('True')\n",
    "plt.savefig('./figures/results_class_confusion_meanprob_0_out.pdf', bbox_inches='tight')"
   ]
  },
  {
   "cell_type": "code",
   "execution_count": null,
   "id": "a14ec9ab",
   "metadata": {},
   "outputs": [],
   "source": [
    "y_test_certain_grouped = y_true.replace(grouped_replace)\n",
    "pred_class_certain_grouped =  y_pred.replace(grouped_replace)\n",
    "new_ltypes = ['AGN', 'Seyfert', 'XB', 'YSO']\n",
    "cf_matrix = confusion_matrix(y_test_certain_grouped, pred_class_certain_grouped, normalize='true', labels=new_ltypes)\n",
    "fig, ax = plt.subplots(figsize=(12,10))\n",
    "sns.heatmap(cf_matrix, annot=True, xticklabels = new_ltypes, yticklabels = new_ltypes, ax=ax, vmin=0, vmax=1, cmap=\"inferno\")\n",
    "ax.set_xlabel('Predicted')\n",
    "ax.set_ylabel('True')\n",
    "plt.savefig('./figures/results_class_confusion_meanprob_0_grouped_out.pdf', bbox_inches='tight')"
   ]
  },
  {
   "cell_type": "code",
   "execution_count": null,
   "id": "084a3f91",
   "metadata": {},
   "outputs": [],
   "source": [
    "n_obs = 0\n",
    "pred_class_df_grouped = pred_class_df.copy(deep=True)\n",
    "def most_common(x): \n",
    "    most_common,name_most_common = Counter(x).most_common(1)[0]\n",
    "    return(most_common) \n",
    "\n",
    "summ_table_common = pred_class_df_grouped.groupby(['name']).size().to_frame(name='obs_count')\n",
    "summ_table_common = summ_table_common[summ_table_common.obs_count > n_obs]\n",
    "summ_table_common['most_common'] = pred_class_df_grouped.groupby(['name'])['main_type'].agg(most_common)\n",
    "summ_table_common.sort_values('obs_count', ascending=False, inplace=True)"
   ]
  },
  {
   "cell_type": "code",
   "execution_count": null,
   "id": "43dd467b",
   "metadata": {},
   "outputs": [],
   "source": [
    "y_pred = summ_table_common.sort_values(by='name').most_common"
   ]
  },
  {
   "cell_type": "code",
   "execution_count": null,
   "id": "40169bae",
   "metadata": {},
   "outputs": [],
   "source": [
    "cf_matrix = confusion_matrix(y_test_master.main_type, y_pred, normalize='true', labels=ltypes)\n",
    "fig, ax = plt.subplots(figsize=(12,10))\n",
    "sns.heatmap(cf_matrix, annot=True, xticklabels = ltypes, yticklabels = ltypes, ax=ax, vmin=0, vmax=1, cmap=\"inferno\")\n",
    "ax.set_xlabel('Predicted')\n",
    "ax.set_ylabel('True')\n",
    "plt.savefig('./figures/results_class_confusion_vote_0_out.pdf', bbox_inches='tight')"
   ]
  },
  {
   "cell_type": "code",
   "execution_count": null,
   "id": "d9436c96",
   "metadata": {},
   "outputs": [],
   "source": [
    "y_test_certain_grouped = y_test_master[y_test_master['size'] > n_obs].main_type.replace(grouped_replace)\n",
    "pred_class_certain_grouped =  y_pred.replace(grouped_replace)\n",
    "new_ltypes = ['AGN', 'Seyfert', 'XB', 'YSO']\n",
    "cf_matrix = confusion_matrix(y_test_certain_grouped, pred_class_certain_grouped, normalize='true', labels=new_ltypes)\n",
    "fig, ax = plt.subplots(figsize=(12,10))\n",
    "sns.heatmap(cf_matrix, annot=True, xticklabels = new_ltypes, yticklabels = new_ltypes, ax=ax, vmin=0, vmax=1, cmap=\"inferno\")\n",
    "ax.set_xlabel('Predicted')\n",
    "ax.set_ylabel('True')\n",
    "plt.savefig('./figures/results_class_confusion_vote_0_grouped_out_final_agnqso.pdf', bbox_inches='tight')"
   ]
  }
 ],
 "metadata": {
  "interpreter": {
   "hash": "11d41d6631468f14d705776df5667f6bffd4ae088cf4427f5dbcbac068467dc6"
  },
  "kernelspec": {
   "display_name": "Python 3",
   "language": "python",
   "name": "python3"
  },
  "language_info": {
   "codemirror_mode": {
    "name": "ipython",
    "version": 3
   },
   "file_extension": ".py",
   "mimetype": "text/x-python",
   "name": "python",
   "nbconvert_exporter": "python",
   "pygments_lexer": "ipython3",
   "version": "3.11.2"
  }
 },
 "nbformat": 4,
 "nbformat_minor": 5
}
